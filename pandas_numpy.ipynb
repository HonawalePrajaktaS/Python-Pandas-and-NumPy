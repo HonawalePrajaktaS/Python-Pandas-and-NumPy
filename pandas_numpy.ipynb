{
 "cells": [
  {
   "cell_type": "code",
   "execution_count": 1,
   "id": "8d3398d5-edf2-443f-a038-4129edd94190",
   "metadata": {},
   "outputs": [],
   "source": [
    "import pandas as pd\n",
    "import numpy as np\n",
    "\n"
   ]
  },
  {
   "cell_type": "markdown",
   "id": "03b6c5be-4bd7-41c7-a40f-90aeee43675a",
   "metadata": {},
   "source": [
    "dataframe using dictionary"
   ]
  },
  {
   "cell_type": "code",
   "execution_count": 5,
   "id": "8b565437-aec5-4be1-bfc5-7ffc1b8ec784",
   "metadata": {},
   "outputs": [],
   "source": [
    "\n",
    "df=pd.DataFrame({\n",
    "    \"Name\":[\"Prajakta\",\"Amey\",\"Monika\"],\n",
    "    \"Age\":[23,24,25],\n",
    "    \"Fav_colour\": [\"White\",\"Black\",\"Green\"]\n",
    "})"
   ]
  },
  {
   "cell_type": "code",
   "execution_count": 6,
   "id": "36420acc-6555-48b7-a08f-816f7714b243",
   "metadata": {},
   "outputs": [
    {
     "data": {
      "text/html": [
       "<div>\n",
       "<style scoped>\n",
       "    .dataframe tbody tr th:only-of-type {\n",
       "        vertical-align: middle;\n",
       "    }\n",
       "\n",
       "    .dataframe tbody tr th {\n",
       "        vertical-align: top;\n",
       "    }\n",
       "\n",
       "    .dataframe thead th {\n",
       "        text-align: right;\n",
       "    }\n",
       "</style>\n",
       "<table border=\"1\" class=\"dataframe\">\n",
       "  <thead>\n",
       "    <tr style=\"text-align: right;\">\n",
       "      <th></th>\n",
       "      <th>Name</th>\n",
       "      <th>Age</th>\n",
       "      <th>Fav_colour</th>\n",
       "    </tr>\n",
       "  </thead>\n",
       "  <tbody>\n",
       "    <tr>\n",
       "      <th>0</th>\n",
       "      <td>Prajakta</td>\n",
       "      <td>23</td>\n",
       "      <td>White</td>\n",
       "    </tr>\n",
       "    <tr>\n",
       "      <th>1</th>\n",
       "      <td>Amey</td>\n",
       "      <td>24</td>\n",
       "      <td>Black</td>\n",
       "    </tr>\n",
       "    <tr>\n",
       "      <th>2</th>\n",
       "      <td>Monika</td>\n",
       "      <td>25</td>\n",
       "      <td>Green</td>\n",
       "    </tr>\n",
       "  </tbody>\n",
       "</table>\n",
       "</div>"
      ],
      "text/plain": [
       "       Name  Age Fav_colour\n",
       "0  Prajakta   23      White\n",
       "1      Amey   24      Black\n",
       "2    Monika   25      Green"
      ]
     },
     "execution_count": 6,
     "metadata": {},
     "output_type": "execute_result"
    }
   ],
   "source": [
    "df"
   ]
  },
  {
   "cell_type": "code",
   "execution_count": 8,
   "id": "c4a550ed-9512-49c1-959e-752ee2f713e2",
   "metadata": {},
   "outputs": [
    {
     "data": {
      "text/html": [
       "<div>\n",
       "<style scoped>\n",
       "    .dataframe tbody tr th:only-of-type {\n",
       "        vertical-align: middle;\n",
       "    }\n",
       "\n",
       "    .dataframe tbody tr th {\n",
       "        vertical-align: top;\n",
       "    }\n",
       "\n",
       "    .dataframe thead th {\n",
       "        text-align: right;\n",
       "    }\n",
       "</style>\n",
       "<table border=\"1\" class=\"dataframe\">\n",
       "  <thead>\n",
       "    <tr style=\"text-align: right;\">\n",
       "      <th></th>\n",
       "      <th>Name</th>\n",
       "      <th>Age</th>\n",
       "      <th>Fav_colour</th>\n",
       "    </tr>\n",
       "  </thead>\n",
       "  <tbody>\n",
       "    <tr>\n",
       "      <th>1</th>\n",
       "      <td>Prajakta</td>\n",
       "      <td>23</td>\n",
       "      <td>White</td>\n",
       "    </tr>\n",
       "    <tr>\n",
       "      <th>2</th>\n",
       "      <td>Amey</td>\n",
       "      <td>24</td>\n",
       "      <td>Black</td>\n",
       "    </tr>\n",
       "    <tr>\n",
       "      <th>3</th>\n",
       "      <td>Monika</td>\n",
       "      <td>25</td>\n",
       "      <td>Green</td>\n",
       "    </tr>\n",
       "  </tbody>\n",
       "</table>\n",
       "</div>"
      ],
      "text/plain": [
       "       Name  Age Fav_colour\n",
       "1  Prajakta   23      White\n",
       "2      Amey   24      Black\n",
       "3    Monika   25      Green"
      ]
     },
     "execution_count": 8,
     "metadata": {},
     "output_type": "execute_result"
    }
   ],
   "source": [
    "df.index=range(1,len(df)+1)\n",
    "df"
   ]
  },
  {
   "cell_type": "markdown",
   "id": "d1c44dc4-0db4-41f6-bbf4-434f7e070c87",
   "metadata": {},
   "source": [
    "dataframe using list"
   ]
  },
  {
   "cell_type": "code",
   "execution_count": 88,
   "id": "aa14728c-72fe-4999-85ef-ddbb43f93d3a",
   "metadata": {},
   "outputs": [
    {
     "data": {
      "text/html": [
       "<div>\n",
       "<style scoped>\n",
       "    .dataframe tbody tr th:only-of-type {\n",
       "        vertical-align: middle;\n",
       "    }\n",
       "\n",
       "    .dataframe tbody tr th {\n",
       "        vertical-align: top;\n",
       "    }\n",
       "\n",
       "    .dataframe thead th {\n",
       "        text-align: right;\n",
       "    }\n",
       "</style>\n",
       "<table border=\"1\" class=\"dataframe\">\n",
       "  <thead>\n",
       "    <tr style=\"text-align: right;\">\n",
       "      <th></th>\n",
       "      <th>Name</th>\n",
       "      <th>age</th>\n",
       "      <th>Colour</th>\n",
       "    </tr>\n",
       "  </thead>\n",
       "  <tbody>\n",
       "    <tr>\n",
       "      <th>1</th>\n",
       "      <td>prajakta</td>\n",
       "      <td>23</td>\n",
       "      <td>white</td>\n",
       "    </tr>\n",
       "    <tr>\n",
       "      <th>2</th>\n",
       "      <td>Amey</td>\n",
       "      <td>24</td>\n",
       "      <td>Black</td>\n",
       "    </tr>\n",
       "    <tr>\n",
       "      <th>3</th>\n",
       "      <td>Monika</td>\n",
       "      <td>25</td>\n",
       "      <td>Green</td>\n",
       "    </tr>\n",
       "  </tbody>\n",
       "</table>\n",
       "</div>"
      ],
      "text/plain": [
       "       Name  age Colour\n",
       "1  prajakta   23  white\n",
       "2      Amey   24  Black\n",
       "3    Monika   25  Green"
      ]
     },
     "execution_count": 88,
     "metadata": {},
     "output_type": "execute_result"
    }
   ],
   "source": [
    "data=([\"prajakta\",23,\"white\"],\n",
    "     [\"Amey\",24,\"Black\"],\n",
    "     [\"Monika\",25,\"Green\"])\n",
    "columns=[\"Name\",\"age\",\"Colour\"]\n",
    "df=pd.DataFrame(data, columns=columns)\n",
    "df.index=range(1,len(df)+1)\n",
    "df"
   ]
  },
  {
   "cell_type": "markdown",
   "id": "3e665a1b-c1b7-4959-b175-6f344425f9d7",
   "metadata": {},
   "source": [
    "Creating a DataFrame from a CSV File"
   ]
  },
  {
   "cell_type": "markdown",
   "id": "3bf8621c-e482-4359-9b98-63fdab96e5c1",
   "metadata": {},
   "source": [
    "df=pd.read_csv(r \"\")\n",
    "df=pd.read_excel(r \"\")"
   ]
  },
  {
   "cell_type": "code",
   "execution_count": 16,
   "id": "f576215e-f832-4d72-a26b-62dcd50bacf0",
   "metadata": {},
   "outputs": [
    {
     "data": {
      "text/html": [
       "<div>\n",
       "<style scoped>\n",
       "    .dataframe tbody tr th:only-of-type {\n",
       "        vertical-align: middle;\n",
       "    }\n",
       "\n",
       "    .dataframe tbody tr th {\n",
       "        vertical-align: top;\n",
       "    }\n",
       "\n",
       "    .dataframe thead th {\n",
       "        text-align: right;\n",
       "    }\n",
       "</style>\n",
       "<table border=\"1\" class=\"dataframe\">\n",
       "  <thead>\n",
       "    <tr style=\"text-align: right;\">\n",
       "      <th></th>\n",
       "      <th>Name</th>\n",
       "      <th>age</th>\n",
       "      <th>Colour</th>\n",
       "    </tr>\n",
       "  </thead>\n",
       "  <tbody>\n",
       "    <tr>\n",
       "      <th>1</th>\n",
       "      <td>prajakta</td>\n",
       "      <td>23</td>\n",
       "      <td>white</td>\n",
       "    </tr>\n",
       "    <tr>\n",
       "      <th>2</th>\n",
       "      <td>Amey</td>\n",
       "      <td>24</td>\n",
       "      <td>Black</td>\n",
       "    </tr>\n",
       "    <tr>\n",
       "      <th>3</th>\n",
       "      <td>Monika</td>\n",
       "      <td>25</td>\n",
       "      <td>Green</td>\n",
       "    </tr>\n",
       "  </tbody>\n",
       "</table>\n",
       "</div>"
      ],
      "text/plain": [
       "       Name  age Colour\n",
       "1  prajakta   23  white\n",
       "2      Amey   24  Black\n",
       "3    Monika   25  Green"
      ]
     },
     "execution_count": 16,
     "metadata": {},
     "output_type": "execute_result"
    }
   ],
   "source": [
    "df.head()"
   ]
  },
  {
   "cell_type": "code",
   "execution_count": 17,
   "id": "f803794a-f64b-433a-8218-795fdff04b64",
   "metadata": {},
   "outputs": [
    {
     "data": {
      "text/html": [
       "<div>\n",
       "<style scoped>\n",
       "    .dataframe tbody tr th:only-of-type {\n",
       "        vertical-align: middle;\n",
       "    }\n",
       "\n",
       "    .dataframe tbody tr th {\n",
       "        vertical-align: top;\n",
       "    }\n",
       "\n",
       "    .dataframe thead th {\n",
       "        text-align: right;\n",
       "    }\n",
       "</style>\n",
       "<table border=\"1\" class=\"dataframe\">\n",
       "  <thead>\n",
       "    <tr style=\"text-align: right;\">\n",
       "      <th></th>\n",
       "      <th>Name</th>\n",
       "      <th>age</th>\n",
       "      <th>Colour</th>\n",
       "    </tr>\n",
       "  </thead>\n",
       "  <tbody>\n",
       "    <tr>\n",
       "      <th>3</th>\n",
       "      <td>Monika</td>\n",
       "      <td>25</td>\n",
       "      <td>Green</td>\n",
       "    </tr>\n",
       "  </tbody>\n",
       "</table>\n",
       "</div>"
      ],
      "text/plain": [
       "     Name  age Colour\n",
       "3  Monika   25  Green"
      ]
     },
     "execution_count": 17,
     "metadata": {},
     "output_type": "execute_result"
    }
   ],
   "source": [
    "df.tail(1)"
   ]
  },
  {
   "cell_type": "code",
   "execution_count": 18,
   "id": "1a96b650-772a-4338-8b9c-4b38564451c8",
   "metadata": {},
   "outputs": [
    {
     "data": {
      "text/plain": [
       "<bound method DataFrame.info of        Name  age Colour\n",
       "1  prajakta   23  white\n",
       "2      Amey   24  Black\n",
       "3    Monika   25  Green>"
      ]
     },
     "execution_count": 18,
     "metadata": {},
     "output_type": "execute_result"
    }
   ],
   "source": [
    "df.info"
   ]
  },
  {
   "cell_type": "markdown",
   "id": "87cd105a-9087-437a-99ec-b6c61c98b035",
   "metadata": {},
   "source": [
    "filter the data\n"
   ]
  },
  {
   "cell_type": "code",
   "execution_count": 23,
   "id": "5946ec79-5c5f-44c4-ae88-c0dbe29c749d",
   "metadata": {},
   "outputs": [
    {
     "data": {
      "text/html": [
       "<div>\n",
       "<style scoped>\n",
       "    .dataframe tbody tr th:only-of-type {\n",
       "        vertical-align: middle;\n",
       "    }\n",
       "\n",
       "    .dataframe tbody tr th {\n",
       "        vertical-align: top;\n",
       "    }\n",
       "\n",
       "    .dataframe thead th {\n",
       "        text-align: right;\n",
       "    }\n",
       "</style>\n",
       "<table border=\"1\" class=\"dataframe\">\n",
       "  <thead>\n",
       "    <tr style=\"text-align: right;\">\n",
       "      <th></th>\n",
       "      <th>Name</th>\n",
       "      <th>age</th>\n",
       "      <th>Colour</th>\n",
       "    </tr>\n",
       "  </thead>\n",
       "  <tbody>\n",
       "    <tr>\n",
       "      <th>3</th>\n",
       "      <td>Monika</td>\n",
       "      <td>25</td>\n",
       "      <td>Green</td>\n",
       "    </tr>\n",
       "  </tbody>\n",
       "</table>\n",
       "</div>"
      ],
      "text/plain": [
       "     Name  age Colour\n",
       "3  Monika   25  Green"
      ]
     },
     "execution_count": 23,
     "metadata": {},
     "output_type": "execute_result"
    }
   ],
   "source": [
    "df_f=df[df['age']>24]\n",
    "df_f"
   ]
  },
  {
   "cell_type": "markdown",
   "id": "402ff73b-309b-48e8-a704-9d7f7adbb165",
   "metadata": {},
   "source": [
    "add new colummn"
   ]
  },
  {
   "cell_type": "code",
   "execution_count": 27,
   "id": "93b3462f-1193-4e37-a33d-4bb0c0286e20",
   "metadata": {},
   "outputs": [],
   "source": [
    "df[\"senior\"]=df[\"age\"]>24"
   ]
  },
  {
   "cell_type": "code",
   "execution_count": 28,
   "id": "d6a57823-4f03-4a02-9fe1-1bc8431ca631",
   "metadata": {},
   "outputs": [
    {
     "data": {
      "text/html": [
       "<div>\n",
       "<style scoped>\n",
       "    .dataframe tbody tr th:only-of-type {\n",
       "        vertical-align: middle;\n",
       "    }\n",
       "\n",
       "    .dataframe tbody tr th {\n",
       "        vertical-align: top;\n",
       "    }\n",
       "\n",
       "    .dataframe thead th {\n",
       "        text-align: right;\n",
       "    }\n",
       "</style>\n",
       "<table border=\"1\" class=\"dataframe\">\n",
       "  <thead>\n",
       "    <tr style=\"text-align: right;\">\n",
       "      <th></th>\n",
       "      <th>Name</th>\n",
       "      <th>age</th>\n",
       "      <th>Colour</th>\n",
       "      <th>senior</th>\n",
       "    </tr>\n",
       "  </thead>\n",
       "  <tbody>\n",
       "    <tr>\n",
       "      <th>1</th>\n",
       "      <td>prajakta</td>\n",
       "      <td>23</td>\n",
       "      <td>white</td>\n",
       "      <td>False</td>\n",
       "    </tr>\n",
       "    <tr>\n",
       "      <th>2</th>\n",
       "      <td>Amey</td>\n",
       "      <td>24</td>\n",
       "      <td>Black</td>\n",
       "      <td>False</td>\n",
       "    </tr>\n",
       "    <tr>\n",
       "      <th>3</th>\n",
       "      <td>Monika</td>\n",
       "      <td>25</td>\n",
       "      <td>Green</td>\n",
       "      <td>True</td>\n",
       "    </tr>\n",
       "  </tbody>\n",
       "</table>\n",
       "</div>"
      ],
      "text/plain": [
       "       Name  age Colour  senior\n",
       "1  prajakta   23  white   False\n",
       "2      Amey   24  Black   False\n",
       "3    Monika   25  Green    True"
      ]
     },
     "execution_count": 28,
     "metadata": {},
     "output_type": "execute_result"
    }
   ],
   "source": [
    "df"
   ]
  },
  {
   "cell_type": "markdown",
   "id": "fc2ad546-f16d-487b-aabb-bcb70345c0fd",
   "metadata": {},
   "source": [
    "update existing data"
   ]
  },
  {
   "cell_type": "code",
   "execution_count": 32,
   "id": "bc514114-d1b6-4247-8735-14e2a8979936",
   "metadata": {},
   "outputs": [],
   "source": [
    "df.loc[df[\"Name\"]==\"prajakta\", \"age\"]=34"
   ]
  },
  {
   "cell_type": "code",
   "execution_count": 33,
   "id": "31a381ff-ffb2-4467-8c50-dd649ec9c0cb",
   "metadata": {},
   "outputs": [
    {
     "data": {
      "text/html": [
       "<div>\n",
       "<style scoped>\n",
       "    .dataframe tbody tr th:only-of-type {\n",
       "        vertical-align: middle;\n",
       "    }\n",
       "\n",
       "    .dataframe tbody tr th {\n",
       "        vertical-align: top;\n",
       "    }\n",
       "\n",
       "    .dataframe thead th {\n",
       "        text-align: right;\n",
       "    }\n",
       "</style>\n",
       "<table border=\"1\" class=\"dataframe\">\n",
       "  <thead>\n",
       "    <tr style=\"text-align: right;\">\n",
       "      <th></th>\n",
       "      <th>Name</th>\n",
       "      <th>age</th>\n",
       "      <th>Colour</th>\n",
       "      <th>senior</th>\n",
       "      <th>Age</th>\n",
       "    </tr>\n",
       "  </thead>\n",
       "  <tbody>\n",
       "    <tr>\n",
       "      <th>1</th>\n",
       "      <td>prajakta</td>\n",
       "      <td>34</td>\n",
       "      <td>white</td>\n",
       "      <td>False</td>\n",
       "      <td>NaN</td>\n",
       "    </tr>\n",
       "    <tr>\n",
       "      <th>2</th>\n",
       "      <td>Amey</td>\n",
       "      <td>24</td>\n",
       "      <td>Black</td>\n",
       "      <td>False</td>\n",
       "      <td>NaN</td>\n",
       "    </tr>\n",
       "    <tr>\n",
       "      <th>3</th>\n",
       "      <td>Monika</td>\n",
       "      <td>25</td>\n",
       "      <td>Green</td>\n",
       "      <td>True</td>\n",
       "      <td>NaN</td>\n",
       "    </tr>\n",
       "  </tbody>\n",
       "</table>\n",
       "</div>"
      ],
      "text/plain": [
       "       Name  age Colour  senior  Age\n",
       "1  prajakta   34  white   False  NaN\n",
       "2      Amey   24  Black   False  NaN\n",
       "3    Monika   25  Green    True  NaN"
      ]
     },
     "execution_count": 33,
     "metadata": {},
     "output_type": "execute_result"
    }
   ],
   "source": [
    "df"
   ]
  },
  {
   "cell_type": "code",
   "execution_count": 36,
   "id": "b708b0e6-d6eb-4b3e-8086-fb5612a81c4e",
   "metadata": {},
   "outputs": [],
   "source": [
    "df=df.drop(columns=\"Age\",axis=1)"
   ]
  },
  {
   "cell_type": "code",
   "execution_count": 37,
   "id": "3d385c94-4f7e-4e42-aa76-ffcfbb552ceb",
   "metadata": {},
   "outputs": [
    {
     "data": {
      "text/html": [
       "<div>\n",
       "<style scoped>\n",
       "    .dataframe tbody tr th:only-of-type {\n",
       "        vertical-align: middle;\n",
       "    }\n",
       "\n",
       "    .dataframe tbody tr th {\n",
       "        vertical-align: top;\n",
       "    }\n",
       "\n",
       "    .dataframe thead th {\n",
       "        text-align: right;\n",
       "    }\n",
       "</style>\n",
       "<table border=\"1\" class=\"dataframe\">\n",
       "  <thead>\n",
       "    <tr style=\"text-align: right;\">\n",
       "      <th></th>\n",
       "      <th>Name</th>\n",
       "      <th>age</th>\n",
       "      <th>Colour</th>\n",
       "      <th>senior</th>\n",
       "    </tr>\n",
       "  </thead>\n",
       "  <tbody>\n",
       "    <tr>\n",
       "      <th>1</th>\n",
       "      <td>prajakta</td>\n",
       "      <td>34</td>\n",
       "      <td>white</td>\n",
       "      <td>False</td>\n",
       "    </tr>\n",
       "    <tr>\n",
       "      <th>2</th>\n",
       "      <td>Amey</td>\n",
       "      <td>24</td>\n",
       "      <td>Black</td>\n",
       "      <td>False</td>\n",
       "    </tr>\n",
       "    <tr>\n",
       "      <th>3</th>\n",
       "      <td>Monika</td>\n",
       "      <td>25</td>\n",
       "      <td>Green</td>\n",
       "      <td>True</td>\n",
       "    </tr>\n",
       "  </tbody>\n",
       "</table>\n",
       "</div>"
      ],
      "text/plain": [
       "       Name  age Colour  senior\n",
       "1  prajakta   34  white   False\n",
       "2      Amey   24  Black   False\n",
       "3    Monika   25  Green    True"
      ]
     },
     "execution_count": 37,
     "metadata": {},
     "output_type": "execute_result"
    }
   ],
   "source": [
    "df"
   ]
  },
  {
   "cell_type": "markdown",
   "id": "fbc698d9-8172-49f4-9eac-9b3c666e52d7",
   "metadata": {},
   "source": [
    "    new column"
   ]
  },
  {
   "cell_type": "code",
   "execution_count": 39,
   "id": "4174c8a4-b3b8-4ba0-b039-242b77b6061e",
   "metadata": {},
   "outputs": [],
   "source": [
    "df[\"city\"]=[\"Pune\",\"phaltan\",\"dapoli\"]"
   ]
  },
  {
   "cell_type": "code",
   "execution_count": 40,
   "id": "a369d365-b0e5-4d23-9fb3-8955297f9f7f",
   "metadata": {},
   "outputs": [
    {
     "data": {
      "text/html": [
       "<div>\n",
       "<style scoped>\n",
       "    .dataframe tbody tr th:only-of-type {\n",
       "        vertical-align: middle;\n",
       "    }\n",
       "\n",
       "    .dataframe tbody tr th {\n",
       "        vertical-align: top;\n",
       "    }\n",
       "\n",
       "    .dataframe thead th {\n",
       "        text-align: right;\n",
       "    }\n",
       "</style>\n",
       "<table border=\"1\" class=\"dataframe\">\n",
       "  <thead>\n",
       "    <tr style=\"text-align: right;\">\n",
       "      <th></th>\n",
       "      <th>Name</th>\n",
       "      <th>age</th>\n",
       "      <th>Colour</th>\n",
       "      <th>senior</th>\n",
       "      <th>city</th>\n",
       "    </tr>\n",
       "  </thead>\n",
       "  <tbody>\n",
       "    <tr>\n",
       "      <th>1</th>\n",
       "      <td>prajakta</td>\n",
       "      <td>34</td>\n",
       "      <td>white</td>\n",
       "      <td>False</td>\n",
       "      <td>Pune</td>\n",
       "    </tr>\n",
       "    <tr>\n",
       "      <th>2</th>\n",
       "      <td>Amey</td>\n",
       "      <td>24</td>\n",
       "      <td>Black</td>\n",
       "      <td>False</td>\n",
       "      <td>phaltan</td>\n",
       "    </tr>\n",
       "    <tr>\n",
       "      <th>3</th>\n",
       "      <td>Monika</td>\n",
       "      <td>25</td>\n",
       "      <td>Green</td>\n",
       "      <td>True</td>\n",
       "      <td>dapoli</td>\n",
       "    </tr>\n",
       "  </tbody>\n",
       "</table>\n",
       "</div>"
      ],
      "text/plain": [
       "       Name  age Colour  senior     city\n",
       "1  prajakta   34  white   False     Pune\n",
       "2      Amey   24  Black   False  phaltan\n",
       "3    Monika   25  Green    True   dapoli"
      ]
     },
     "execution_count": 40,
     "metadata": {},
     "output_type": "execute_result"
    }
   ],
   "source": [
    "df"
   ]
  },
  {
   "cell_type": "code",
   "execution_count": 44,
   "id": "47a25531-4e04-4c7d-9c83-4f8fac3d5b4f",
   "metadata": {},
   "outputs": [],
   "source": [
    "df.loc[df[\"Name\"]==\"prajakta\",\"city\"]=\"dapoli\""
   ]
  },
  {
   "cell_type": "code",
   "execution_count": 45,
   "id": "d9b64749-7c21-42c3-a91b-eb9718f2e16d",
   "metadata": {},
   "outputs": [
    {
     "data": {
      "text/html": [
       "<div>\n",
       "<style scoped>\n",
       "    .dataframe tbody tr th:only-of-type {\n",
       "        vertical-align: middle;\n",
       "    }\n",
       "\n",
       "    .dataframe tbody tr th {\n",
       "        vertical-align: top;\n",
       "    }\n",
       "\n",
       "    .dataframe thead th {\n",
       "        text-align: right;\n",
       "    }\n",
       "</style>\n",
       "<table border=\"1\" class=\"dataframe\">\n",
       "  <thead>\n",
       "    <tr style=\"text-align: right;\">\n",
       "      <th></th>\n",
       "      <th>Name</th>\n",
       "      <th>age</th>\n",
       "      <th>Colour</th>\n",
       "      <th>senior</th>\n",
       "      <th>city</th>\n",
       "    </tr>\n",
       "  </thead>\n",
       "  <tbody>\n",
       "    <tr>\n",
       "      <th>1</th>\n",
       "      <td>prajakta</td>\n",
       "      <td>34</td>\n",
       "      <td>white</td>\n",
       "      <td>False</td>\n",
       "      <td>dapoli</td>\n",
       "    </tr>\n",
       "    <tr>\n",
       "      <th>2</th>\n",
       "      <td>Amey</td>\n",
       "      <td>24</td>\n",
       "      <td>Black</td>\n",
       "      <td>False</td>\n",
       "      <td>phaltan</td>\n",
       "    </tr>\n",
       "    <tr>\n",
       "      <th>3</th>\n",
       "      <td>Monika</td>\n",
       "      <td>25</td>\n",
       "      <td>Green</td>\n",
       "      <td>True</td>\n",
       "      <td>dapoli</td>\n",
       "    </tr>\n",
       "  </tbody>\n",
       "</table>\n",
       "</div>"
      ],
      "text/plain": [
       "       Name  age Colour  senior     city\n",
       "1  prajakta   34  white   False   dapoli\n",
       "2      Amey   24  Black   False  phaltan\n",
       "3    Monika   25  Green    True   dapoli"
      ]
     },
     "execution_count": 45,
     "metadata": {},
     "output_type": "execute_result"
    }
   ],
   "source": [
    "df"
   ]
  },
  {
   "cell_type": "markdown",
   "id": "41c7356b-cbd8-4938-89a8-9a02298d6405",
   "metadata": {},
   "source": [
    "group and aggregate"
   ]
  },
  {
   "cell_type": "code",
   "execution_count": 50,
   "id": "6977a5be-6fd4-4561-86a4-cf1e413cb771",
   "metadata": {},
   "outputs": [],
   "source": [
    "df_g=df.groupby(\"city\")[\"age\"].mean()"
   ]
  },
  {
   "cell_type": "code",
   "execution_count": 51,
   "id": "4db2a47d-ae20-47f8-aa82-400b1301d102",
   "metadata": {},
   "outputs": [
    {
     "name": "stdout",
     "output_type": "stream",
     "text": [
      "city\n",
      "dapoli     29.5\n",
      "phaltan    24.0\n",
      "Name: age, dtype: float64\n"
     ]
    }
   ],
   "source": [
    "print(df_g)"
   ]
  },
  {
   "cell_type": "markdown",
   "id": "f1118290-6c8b-494e-b7ee-c5e9f7d1cfc4",
   "metadata": {},
   "source": [
    "sort data"
   ]
  },
  {
   "cell_type": "code",
   "execution_count": 54,
   "id": "a008a1c0-3e2a-4f9b-80c2-60c5ef4b49ab",
   "metadata": {},
   "outputs": [],
   "source": [
    "df_s=df.sort_values(by=[\"age\",\"Name\"],ascending=[True,False])"
   ]
  },
  {
   "cell_type": "code",
   "execution_count": 55,
   "id": "dcd1cc7c-c8c6-48e8-97bf-a50d114452c9",
   "metadata": {},
   "outputs": [
    {
     "data": {
      "text/html": [
       "<div>\n",
       "<style scoped>\n",
       "    .dataframe tbody tr th:only-of-type {\n",
       "        vertical-align: middle;\n",
       "    }\n",
       "\n",
       "    .dataframe tbody tr th {\n",
       "        vertical-align: top;\n",
       "    }\n",
       "\n",
       "    .dataframe thead th {\n",
       "        text-align: right;\n",
       "    }\n",
       "</style>\n",
       "<table border=\"1\" class=\"dataframe\">\n",
       "  <thead>\n",
       "    <tr style=\"text-align: right;\">\n",
       "      <th></th>\n",
       "      <th>Name</th>\n",
       "      <th>age</th>\n",
       "      <th>Colour</th>\n",
       "      <th>senior</th>\n",
       "      <th>city</th>\n",
       "    </tr>\n",
       "  </thead>\n",
       "  <tbody>\n",
       "    <tr>\n",
       "      <th>2</th>\n",
       "      <td>Amey</td>\n",
       "      <td>24</td>\n",
       "      <td>Black</td>\n",
       "      <td>False</td>\n",
       "      <td>phaltan</td>\n",
       "    </tr>\n",
       "    <tr>\n",
       "      <th>3</th>\n",
       "      <td>Monika</td>\n",
       "      <td>25</td>\n",
       "      <td>Green</td>\n",
       "      <td>True</td>\n",
       "      <td>dapoli</td>\n",
       "    </tr>\n",
       "    <tr>\n",
       "      <th>1</th>\n",
       "      <td>prajakta</td>\n",
       "      <td>34</td>\n",
       "      <td>white</td>\n",
       "      <td>False</td>\n",
       "      <td>dapoli</td>\n",
       "    </tr>\n",
       "  </tbody>\n",
       "</table>\n",
       "</div>"
      ],
      "text/plain": [
       "       Name  age Colour  senior     city\n",
       "2      Amey   24  Black   False  phaltan\n",
       "3    Monika   25  Green    True   dapoli\n",
       "1  prajakta   34  white   False   dapoli"
      ]
     },
     "execution_count": 55,
     "metadata": {},
     "output_type": "execute_result"
    }
   ],
   "source": [
    "df_s"
   ]
  },
  {
   "cell_type": "code",
   "execution_count": 56,
   "id": "80adfb44-de5b-4950-8be3-20b1706400e5",
   "metadata": {},
   "outputs": [],
   "source": [
    "df[\"school\"]=[\"\",\"\",\"dapoli\"]"
   ]
  },
  {
   "cell_type": "code",
   "execution_count": 57,
   "id": "0e0a2c2f-f8be-44f6-bdd5-fe2f802c65f1",
   "metadata": {},
   "outputs": [
    {
     "data": {
      "text/html": [
       "<div>\n",
       "<style scoped>\n",
       "    .dataframe tbody tr th:only-of-type {\n",
       "        vertical-align: middle;\n",
       "    }\n",
       "\n",
       "    .dataframe tbody tr th {\n",
       "        vertical-align: top;\n",
       "    }\n",
       "\n",
       "    .dataframe thead th {\n",
       "        text-align: right;\n",
       "    }\n",
       "</style>\n",
       "<table border=\"1\" class=\"dataframe\">\n",
       "  <thead>\n",
       "    <tr style=\"text-align: right;\">\n",
       "      <th></th>\n",
       "      <th>Name</th>\n",
       "      <th>age</th>\n",
       "      <th>Colour</th>\n",
       "      <th>senior</th>\n",
       "      <th>city</th>\n",
       "      <th>school</th>\n",
       "    </tr>\n",
       "  </thead>\n",
       "  <tbody>\n",
       "    <tr>\n",
       "      <th>1</th>\n",
       "      <td>prajakta</td>\n",
       "      <td>34</td>\n",
       "      <td>white</td>\n",
       "      <td>False</td>\n",
       "      <td>dapoli</td>\n",
       "      <td></td>\n",
       "    </tr>\n",
       "    <tr>\n",
       "      <th>2</th>\n",
       "      <td>Amey</td>\n",
       "      <td>24</td>\n",
       "      <td>Black</td>\n",
       "      <td>False</td>\n",
       "      <td>phaltan</td>\n",
       "      <td></td>\n",
       "    </tr>\n",
       "    <tr>\n",
       "      <th>3</th>\n",
       "      <td>Monika</td>\n",
       "      <td>25</td>\n",
       "      <td>Green</td>\n",
       "      <td>True</td>\n",
       "      <td>dapoli</td>\n",
       "      <td>dapoli</td>\n",
       "    </tr>\n",
       "  </tbody>\n",
       "</table>\n",
       "</div>"
      ],
      "text/plain": [
       "       Name  age Colour  senior     city  school\n",
       "1  prajakta   34  white   False   dapoli        \n",
       "2      Amey   24  Black   False  phaltan        \n",
       "3    Monika   25  Green    True   dapoli  dapoli"
      ]
     },
     "execution_count": 57,
     "metadata": {},
     "output_type": "execute_result"
    }
   ],
   "source": [
    "df"
   ]
  },
  {
   "cell_type": "markdown",
   "id": "c3eb4c64-8715-4cd0-b0fd-b47f87bd58e9",
   "metadata": {},
   "source": [
    "handle null values"
   ]
  },
  {
   "cell_type": "code",
   "execution_count": 69,
   "id": "efd810d8-b5a1-4873-8069-8e83b53e4e1b",
   "metadata": {},
   "outputs": [
    {
     "name": "stderr",
     "output_type": "stream",
     "text": [
      "C:\\Users\\User\\AppData\\Local\\Temp\\ipykernel_20212\\2409299838.py:2: FutureWarning: A value is trying to be set on a copy of a DataFrame or Series through chained assignment using an inplace method.\n",
      "The behavior will change in pandas 3.0. This inplace method will never work because the intermediate object on which we are setting values always behaves as a copy.\n",
      "\n",
      "For example, when doing 'df[col].method(value, inplace=True)', try using 'df.method({col: value}, inplace=True)' or df[col] = df[col].method(value) instead, to perform the operation inplace on the original object.\n",
      "\n",
      "\n",
      "  df[\"school\"].replace(\"\",\"NaN\",inplace=True)\n"
     ]
    }
   ],
   "source": [
    "# replace empty string with nan \n",
    "df[\"school\"].replace(\"\",\"NaN\",inplace=True)"
   ]
  },
  {
   "cell_type": "code",
   "execution_count": 1,
   "id": "17e0b70b-adf9-4246-81df-3b9c42cad4f1",
   "metadata": {},
   "outputs": [
    {
     "ename": "NameError",
     "evalue": "name 'df' is not defined",
     "output_type": "error",
     "traceback": [
      "\u001b[1;31m---------------------------------------------------------------------------\u001b[0m",
      "\u001b[1;31mNameError\u001b[0m                                 Traceback (most recent call last)",
      "Cell \u001b[1;32mIn[1], line 1\u001b[0m\n\u001b[1;32m----> 1\u001b[0m \u001b[43mdf\u001b[49m\u001b[38;5;241m.\u001b[39mreplace({\u001b[38;5;124m'\u001b[39m\u001b[38;5;124m'\u001b[39m: NaN}, inplace\u001b[38;5;241m=\u001b[39m\u001b[38;5;28;01mTrue\u001b[39;00m)\n",
      "\u001b[1;31mNameError\u001b[0m: name 'df' is not defined"
     ]
    }
   ],
   "source": [
    "df.replace({'': NaN}, inplace=True)"
   ]
  },
  {
   "cell_type": "code",
   "execution_count": null,
   "id": "63af2f51-2337-4d2f-ad88-0b35f5bb0a3b",
   "metadata": {},
   "outputs": [],
   "source": []
  },
  {
   "cell_type": "code",
   "execution_count": 70,
   "id": "2b3c13b4-dd06-428e-80d7-8fd798db3e6e",
   "metadata": {},
   "outputs": [],
   "source": [
    "df[\"school\"]=df[\"school\"].fillna(\"unknown\")"
   ]
  },
  {
   "cell_type": "code",
   "execution_count": 71,
   "id": "ef4a7273-5b7c-4f27-8f1a-0a7c620e706c",
   "metadata": {},
   "outputs": [
    {
     "data": {
      "text/html": [
       "<div>\n",
       "<style scoped>\n",
       "    .dataframe tbody tr th:only-of-type {\n",
       "        vertical-align: middle;\n",
       "    }\n",
       "\n",
       "    .dataframe tbody tr th {\n",
       "        vertical-align: top;\n",
       "    }\n",
       "\n",
       "    .dataframe thead th {\n",
       "        text-align: right;\n",
       "    }\n",
       "</style>\n",
       "<table border=\"1\" class=\"dataframe\">\n",
       "  <thead>\n",
       "    <tr style=\"text-align: right;\">\n",
       "      <th></th>\n",
       "      <th>Name</th>\n",
       "      <th>age</th>\n",
       "      <th>Colour</th>\n",
       "      <th>senior</th>\n",
       "      <th>city</th>\n",
       "      <th>school</th>\n",
       "    </tr>\n",
       "  </thead>\n",
       "  <tbody>\n",
       "    <tr>\n",
       "      <th>1</th>\n",
       "      <td>prajakta</td>\n",
       "      <td>34</td>\n",
       "      <td>white</td>\n",
       "      <td>False</td>\n",
       "      <td>dapoli</td>\n",
       "      <td>unknown</td>\n",
       "    </tr>\n",
       "    <tr>\n",
       "      <th>2</th>\n",
       "      <td>Amey</td>\n",
       "      <td>24</td>\n",
       "      <td>Black</td>\n",
       "      <td>False</td>\n",
       "      <td>phaltan</td>\n",
       "      <td>unknown</td>\n",
       "    </tr>\n",
       "    <tr>\n",
       "      <th>3</th>\n",
       "      <td>Monika</td>\n",
       "      <td>25</td>\n",
       "      <td>Green</td>\n",
       "      <td>True</td>\n",
       "      <td>dapoli</td>\n",
       "      <td>dapoli</td>\n",
       "    </tr>\n",
       "  </tbody>\n",
       "</table>\n",
       "</div>"
      ],
      "text/plain": [
       "       Name  age Colour  senior     city   school\n",
       "1  prajakta   34  white   False   dapoli  unknown\n",
       "2      Amey   24  Black   False  phaltan  unknown\n",
       "3    Monika   25  Green    True   dapoli   dapoli"
      ]
     },
     "execution_count": 71,
     "metadata": {},
     "output_type": "execute_result"
    }
   ],
   "source": [
    "df"
   ]
  },
  {
   "cell_type": "markdown",
   "id": "0f6d3d2b-7091-49f8-8181-61919aed810e",
   "metadata": {},
   "source": [
    "Merge the datframes"
   ]
  },
  {
   "cell_type": "code",
   "execution_count": 73,
   "id": "c392834b-05ea-477f-b3c4-ed9ba2db1513",
   "metadata": {},
   "outputs": [],
   "source": [
    "df2=pd.DataFrame(\n",
    "    {\"Name\":[\"prajakta\",\"Amey\",\"Monika\"],\n",
    "     \"Occ\":[\"Data Analyst\",\"eng\",\"Medical officer\"]\n",
    "    }\n",
    ")"
   ]
  },
  {
   "cell_type": "code",
   "execution_count": 75,
   "id": "be5dcddc-35c3-4da5-a304-df68419eea2b",
   "metadata": {},
   "outputs": [],
   "source": [
    "df2.index=range(1,len(df2)+1)"
   ]
  },
  {
   "cell_type": "code",
   "execution_count": 76,
   "id": "cc89840c-c1db-4a53-8943-e783284d291c",
   "metadata": {},
   "outputs": [
    {
     "data": {
      "text/html": [
       "<div>\n",
       "<style scoped>\n",
       "    .dataframe tbody tr th:only-of-type {\n",
       "        vertical-align: middle;\n",
       "    }\n",
       "\n",
       "    .dataframe tbody tr th {\n",
       "        vertical-align: top;\n",
       "    }\n",
       "\n",
       "    .dataframe thead th {\n",
       "        text-align: right;\n",
       "    }\n",
       "</style>\n",
       "<table border=\"1\" class=\"dataframe\">\n",
       "  <thead>\n",
       "    <tr style=\"text-align: right;\">\n",
       "      <th></th>\n",
       "      <th>Name</th>\n",
       "      <th>Occ</th>\n",
       "    </tr>\n",
       "  </thead>\n",
       "  <tbody>\n",
       "    <tr>\n",
       "      <th>1</th>\n",
       "      <td>prajakta</td>\n",
       "      <td>Data Analyst</td>\n",
       "    </tr>\n",
       "    <tr>\n",
       "      <th>2</th>\n",
       "      <td>Amey</td>\n",
       "      <td>eng</td>\n",
       "    </tr>\n",
       "    <tr>\n",
       "      <th>3</th>\n",
       "      <td>Monika</td>\n",
       "      <td>Medical officer</td>\n",
       "    </tr>\n",
       "  </tbody>\n",
       "</table>\n",
       "</div>"
      ],
      "text/plain": [
       "       Name              Occ\n",
       "1  prajakta     Data Analyst\n",
       "2      Amey              eng\n",
       "3    Monika  Medical officer"
      ]
     },
     "execution_count": 76,
     "metadata": {},
     "output_type": "execute_result"
    }
   ],
   "source": [
    "df2"
   ]
  },
  {
   "cell_type": "code",
   "execution_count": 78,
   "id": "8ca9d54d-5795-4590-8d49-bb9d7921a6a2",
   "metadata": {},
   "outputs": [],
   "source": [
    "df2_m=pd.merge(df,df2, on=\"Name\")"
   ]
  },
  {
   "cell_type": "code",
   "execution_count": 81,
   "id": "ea477c14-c52f-4914-b53c-e006bce373c6",
   "metadata": {},
   "outputs": [],
   "source": [
    "df2_m.index=range(1,len(df2_m)+1)"
   ]
  },
  {
   "cell_type": "markdown",
   "id": "4dfb43f1-f0e7-4a50-abee-04057c448b41",
   "metadata": {},
   "source": [
    "df2_m"
   ]
  },
  {
   "cell_type": "code",
   "execution_count": 87,
   "id": "86f1b053-1255-4f08-9025-d76aa0cad06e",
   "metadata": {},
   "outputs": [],
   "source": [
    "df2_m.loc[df2_m[\"Name\"]==\"Amey\",\"school\"]=\"DND\""
   ]
  },
  {
   "cell_type": "code",
   "execution_count": 88,
   "id": "ccabbe8f-1043-4487-a78d-1caedf89dd9f",
   "metadata": {},
   "outputs": [
    {
     "data": {
      "text/html": [
       "<div>\n",
       "<style scoped>\n",
       "    .dataframe tbody tr th:only-of-type {\n",
       "        vertical-align: middle;\n",
       "    }\n",
       "\n",
       "    .dataframe tbody tr th {\n",
       "        vertical-align: top;\n",
       "    }\n",
       "\n",
       "    .dataframe thead th {\n",
       "        text-align: right;\n",
       "    }\n",
       "</style>\n",
       "<table border=\"1\" class=\"dataframe\">\n",
       "  <thead>\n",
       "    <tr style=\"text-align: right;\">\n",
       "      <th></th>\n",
       "      <th>Name</th>\n",
       "      <th>age</th>\n",
       "      <th>Colour</th>\n",
       "      <th>senior</th>\n",
       "      <th>city</th>\n",
       "      <th>school</th>\n",
       "      <th>Occ</th>\n",
       "    </tr>\n",
       "  </thead>\n",
       "  <tbody>\n",
       "    <tr>\n",
       "      <th>1</th>\n",
       "      <td>prajakta</td>\n",
       "      <td>34</td>\n",
       "      <td>white</td>\n",
       "      <td>False</td>\n",
       "      <td>dapoli</td>\n",
       "      <td>unknown</td>\n",
       "      <td>Data Analyst</td>\n",
       "    </tr>\n",
       "    <tr>\n",
       "      <th>2</th>\n",
       "      <td>Amey</td>\n",
       "      <td>24</td>\n",
       "      <td>Black</td>\n",
       "      <td>False</td>\n",
       "      <td>phaltan</td>\n",
       "      <td>DND</td>\n",
       "      <td>eng</td>\n",
       "    </tr>\n",
       "    <tr>\n",
       "      <th>3</th>\n",
       "      <td>Monika</td>\n",
       "      <td>25</td>\n",
       "      <td>Green</td>\n",
       "      <td>True</td>\n",
       "      <td>dapoli</td>\n",
       "      <td>dapoli</td>\n",
       "      <td>Medical officer</td>\n",
       "    </tr>\n",
       "  </tbody>\n",
       "</table>\n",
       "</div>"
      ],
      "text/plain": [
       "       Name  age Colour  senior     city   school              Occ\n",
       "1  prajakta   34  white   False   dapoli  unknown     Data Analyst\n",
       "2      Amey   24  Black   False  phaltan      DND              eng\n",
       "3    Monika   25  Green    True   dapoli   dapoli  Medical officer"
      ]
     },
     "execution_count": 88,
     "metadata": {},
     "output_type": "execute_result"
    }
   ],
   "source": [
    "df2_m"
   ]
  },
  {
   "cell_type": "markdown",
   "id": "9bae7c8d-bf95-48fd-b7e4-aad5a5f656f0",
   "metadata": {},
   "source": [
    "save"
   ]
  },
  {
   "cell_type": "code",
   "execution_count": 100,
   "id": "168076d1-dc4c-468b-bbb4-6b99a31202ab",
   "metadata": {},
   "outputs": [],
   "source": [
    "df2_m.to_csv(\"sjdhbc.csv\",index=False)"
   ]
  },
  {
   "cell_type": "code",
   "execution_count": null,
   "id": "d14300ce-a3bb-4432-8fe5-c77a2d155ab1",
   "metadata": {},
   "outputs": [],
   "source": []
  },
  {
   "cell_type": "markdown",
   "id": "d50e9d0d-420c-44da-9e00-50e723c7cee0",
   "metadata": {},
   "source": [
    "basic operations\n"
   ]
  },
  {
   "cell_type": "code",
   "execution_count": 104,
   "id": "ef146804-5720-4662-b98d-9906788adb74",
   "metadata": {},
   "outputs": [
    {
     "data": {
      "text/plain": [
       "1    prajakta\n",
       "2        Amey\n",
       "3      Monika\n",
       "Name: Name, dtype: object"
      ]
     },
     "execution_count": 104,
     "metadata": {},
     "output_type": "execute_result"
    }
   ],
   "source": [
    "df[\"Name\"]  #--> single column"
   ]
  },
  {
   "cell_type": "code",
   "execution_count": 105,
   "id": "4f7ee7b2-0584-4789-8ab1-c2ead416fc1a",
   "metadata": {},
   "outputs": [
    {
     "data": {
      "text/html": [
       "<div>\n",
       "<style scoped>\n",
       "    .dataframe tbody tr th:only-of-type {\n",
       "        vertical-align: middle;\n",
       "    }\n",
       "\n",
       "    .dataframe tbody tr th {\n",
       "        vertical-align: top;\n",
       "    }\n",
       "\n",
       "    .dataframe thead th {\n",
       "        text-align: right;\n",
       "    }\n",
       "</style>\n",
       "<table border=\"1\" class=\"dataframe\">\n",
       "  <thead>\n",
       "    <tr style=\"text-align: right;\">\n",
       "      <th></th>\n",
       "      <th>Name</th>\n",
       "      <th>age</th>\n",
       "    </tr>\n",
       "  </thead>\n",
       "  <tbody>\n",
       "    <tr>\n",
       "      <th>1</th>\n",
       "      <td>prajakta</td>\n",
       "      <td>34</td>\n",
       "    </tr>\n",
       "    <tr>\n",
       "      <th>2</th>\n",
       "      <td>Amey</td>\n",
       "      <td>24</td>\n",
       "    </tr>\n",
       "    <tr>\n",
       "      <th>3</th>\n",
       "      <td>Monika</td>\n",
       "      <td>25</td>\n",
       "    </tr>\n",
       "  </tbody>\n",
       "</table>\n",
       "</div>"
      ],
      "text/plain": [
       "       Name  age\n",
       "1  prajakta   34\n",
       "2      Amey   24\n",
       "3    Monika   25"
      ]
     },
     "execution_count": 105,
     "metadata": {},
     "output_type": "execute_result"
    }
   ],
   "source": [
    "df[[\"Name\",\"age\"]]   #--> multiple column"
   ]
  },
  {
   "cell_type": "code",
   "execution_count": 106,
   "id": "09729a49-d88a-48f6-a53a-e37ee55c189b",
   "metadata": {},
   "outputs": [
    {
     "data": {
      "text/plain": [
       "Name         Amey\n",
       "age            24\n",
       "Colour      Black\n",
       "senior      False\n",
       "city      phaltan\n",
       "school        DND\n",
       "Name: 2, dtype: object"
      ]
     },
     "execution_count": 106,
     "metadata": {},
     "output_type": "execute_result"
    }
   ],
   "source": [
    "df.iloc[1]   #--> row at index 1"
   ]
  },
  {
   "cell_type": "code",
   "execution_count": 107,
   "id": "955357d5-b2f8-4f26-839f-d6fa77e5e1f9",
   "metadata": {},
   "outputs": [
    {
     "data": {
      "text/plain": [
       "Name      prajakta\n",
       "age             34\n",
       "Colour       white\n",
       "senior       False\n",
       "city        dapoli\n",
       "school     unknown\n",
       "Name: 1, dtype: object"
      ]
     },
     "execution_count": 107,
     "metadata": {},
     "output_type": "execute_result"
    }
   ],
   "source": [
    "df.loc[1]     #--> row with lable 1"
   ]
  },
  {
   "cell_type": "code",
   "execution_count": 110,
   "id": "21bd1ee9-644a-4f51-91bd-4cb087e96ba6",
   "metadata": {},
   "outputs": [
    {
     "data": {
      "text/html": [
       "<div>\n",
       "<style scoped>\n",
       "    .dataframe tbody tr th:only-of-type {\n",
       "        vertical-align: middle;\n",
       "    }\n",
       "\n",
       "    .dataframe tbody tr th {\n",
       "        vertical-align: top;\n",
       "    }\n",
       "\n",
       "    .dataframe thead th {\n",
       "        text-align: right;\n",
       "    }\n",
       "</style>\n",
       "<table border=\"1\" class=\"dataframe\">\n",
       "  <thead>\n",
       "    <tr style=\"text-align: right;\">\n",
       "      <th></th>\n",
       "      <th>Name</th>\n",
       "      <th>age</th>\n",
       "      <th>Colour</th>\n",
       "      <th>senior</th>\n",
       "      <th>city</th>\n",
       "      <th>school</th>\n",
       "    </tr>\n",
       "  </thead>\n",
       "  <tbody>\n",
       "    <tr>\n",
       "      <th>1</th>\n",
       "      <td>prajakta</td>\n",
       "      <td>34</td>\n",
       "      <td>white</td>\n",
       "      <td>False</td>\n",
       "      <td>dapoli</td>\n",
       "      <td>unknown</td>\n",
       "    </tr>\n",
       "    <tr>\n",
       "      <th>2</th>\n",
       "      <td>Amey</td>\n",
       "      <td>24</td>\n",
       "      <td>Black</td>\n",
       "      <td>False</td>\n",
       "      <td>phaltan</td>\n",
       "      <td>DND</td>\n",
       "    </tr>\n",
       "    <tr>\n",
       "      <th>3</th>\n",
       "      <td>Monika</td>\n",
       "      <td>25</td>\n",
       "      <td>Green</td>\n",
       "      <td>True</td>\n",
       "      <td>dapoli</td>\n",
       "      <td>dapoli</td>\n",
       "    </tr>\n",
       "  </tbody>\n",
       "</table>\n",
       "</div>"
      ],
      "text/plain": [
       "       Name  age Colour  senior     city   school\n",
       "1  prajakta   34  white   False   dapoli  unknown\n",
       "2      Amey   24  Black   False  phaltan      DND\n",
       "3    Monika   25  Green    True   dapoli   dapoli"
      ]
     },
     "execution_count": 110,
     "metadata": {},
     "output_type": "execute_result"
    }
   ],
   "source": [
    "df"
   ]
  },
  {
   "cell_type": "code",
   "execution_count": 109,
   "id": "880b5a3e-4f04-439d-916a-4efa7e9d37b6",
   "metadata": {},
   "outputs": [
    {
     "data": {
      "text/html": [
       "<div>\n",
       "<style scoped>\n",
       "    .dataframe tbody tr th:only-of-type {\n",
       "        vertical-align: middle;\n",
       "    }\n",
       "\n",
       "    .dataframe tbody tr th {\n",
       "        vertical-align: top;\n",
       "    }\n",
       "\n",
       "    .dataframe thead th {\n",
       "        text-align: right;\n",
       "    }\n",
       "</style>\n",
       "<table border=\"1\" class=\"dataframe\">\n",
       "  <thead>\n",
       "    <tr style=\"text-align: right;\">\n",
       "      <th></th>\n",
       "      <th>age</th>\n",
       "      <th>Colour</th>\n",
       "    </tr>\n",
       "  </thead>\n",
       "  <tbody>\n",
       "    <tr>\n",
       "      <th>1</th>\n",
       "      <td>34</td>\n",
       "      <td>white</td>\n",
       "    </tr>\n",
       "    <tr>\n",
       "      <th>2</th>\n",
       "      <td>24</td>\n",
       "      <td>Black</td>\n",
       "    </tr>\n",
       "  </tbody>\n",
       "</table>\n",
       "</div>"
      ],
      "text/plain": [
       "   age Colour\n",
       "1   34  white\n",
       "2   24  Black"
      ]
     },
     "execution_count": 109,
     "metadata": {},
     "output_type": "execute_result"
    }
   ],
   "source": [
    "df.iloc[0:2,1:3]"
   ]
  },
  {
   "cell_type": "markdown",
   "id": "e615929a-de6f-4904-8d71-b2cb43a11dd6",
   "metadata": {},
   "source": [
    "18/09/2024"
   ]
  },
  {
   "cell_type": "code",
   "execution_count": 40,
   "id": "e8169fb4-d413-40f8-aeeb-966afe8b40de",
   "metadata": {},
   "outputs": [],
   "source": [
    "from datetime import datetime\n",
    "data = {\n",
    "    'student_id': [101, 102, 103, 104, 105],\n",
    "    'name': ['John Doe', 'Jane Smith', 'Tom Brown', 'Emily Davis', 'Michael Johnson'],\n",
    "    'age': [20, 21, 19, 22, 23],\n",
    "    'email': ['john@example.com', 'jane@example.com', 'tom@example.com', 'emily@example.com', 'michael@example.com'],\n",
    "    'course': ['Physics', 'Mathematics', 'Computer Science', 'Engineering', 'Economics'],\n",
    "    'grade': ['A', 'B', 'A', 'C', 'B'],\n",
    "    'enrollment_date': [datetime(2021, 9, 1), datetime(2020, 9, 1), datetime(2021, 1, 1), datetime(2020, 1, 1), datetime(2019, 9, 1)]\n",
    "}"
   ]
  },
  {
   "cell_type": "code",
   "execution_count": 41,
   "id": "dd222c29-9d97-4e5a-94e9-69d188fc4427",
   "metadata": {},
   "outputs": [
    {
     "data": {
      "text/html": [
       "<div>\n",
       "<style scoped>\n",
       "    .dataframe tbody tr th:only-of-type {\n",
       "        vertical-align: middle;\n",
       "    }\n",
       "\n",
       "    .dataframe tbody tr th {\n",
       "        vertical-align: top;\n",
       "    }\n",
       "\n",
       "    .dataframe thead th {\n",
       "        text-align: right;\n",
       "    }\n",
       "</style>\n",
       "<table border=\"1\" class=\"dataframe\">\n",
       "  <thead>\n",
       "    <tr style=\"text-align: right;\">\n",
       "      <th></th>\n",
       "      <th>student_id</th>\n",
       "      <th>name</th>\n",
       "      <th>age</th>\n",
       "      <th>email</th>\n",
       "      <th>course</th>\n",
       "      <th>grade</th>\n",
       "      <th>enrollment_date</th>\n",
       "    </tr>\n",
       "  </thead>\n",
       "  <tbody>\n",
       "    <tr>\n",
       "      <th>0</th>\n",
       "      <td>101</td>\n",
       "      <td>John Doe</td>\n",
       "      <td>20</td>\n",
       "      <td>john@example.com</td>\n",
       "      <td>Physics</td>\n",
       "      <td>A</td>\n",
       "      <td>2021-09-01</td>\n",
       "    </tr>\n",
       "    <tr>\n",
       "      <th>1</th>\n",
       "      <td>102</td>\n",
       "      <td>Jane Smith</td>\n",
       "      <td>21</td>\n",
       "      <td>jane@example.com</td>\n",
       "      <td>Mathematics</td>\n",
       "      <td>B</td>\n",
       "      <td>2020-09-01</td>\n",
       "    </tr>\n",
       "    <tr>\n",
       "      <th>2</th>\n",
       "      <td>103</td>\n",
       "      <td>Tom Brown</td>\n",
       "      <td>19</td>\n",
       "      <td>tom@example.com</td>\n",
       "      <td>Computer Science</td>\n",
       "      <td>A</td>\n",
       "      <td>2021-01-01</td>\n",
       "    </tr>\n",
       "    <tr>\n",
       "      <th>3</th>\n",
       "      <td>104</td>\n",
       "      <td>Emily Davis</td>\n",
       "      <td>22</td>\n",
       "      <td>emily@example.com</td>\n",
       "      <td>Engineering</td>\n",
       "      <td>C</td>\n",
       "      <td>2020-01-01</td>\n",
       "    </tr>\n",
       "    <tr>\n",
       "      <th>4</th>\n",
       "      <td>105</td>\n",
       "      <td>Michael Johnson</td>\n",
       "      <td>23</td>\n",
       "      <td>michael@example.com</td>\n",
       "      <td>Economics</td>\n",
       "      <td>B</td>\n",
       "      <td>2019-09-01</td>\n",
       "    </tr>\n",
       "  </tbody>\n",
       "</table>\n",
       "</div>"
      ],
      "text/plain": [
       "   student_id             name  age                email            course  \\\n",
       "0         101         John Doe   20     john@example.com           Physics   \n",
       "1         102       Jane Smith   21     jane@example.com       Mathematics   \n",
       "2         103        Tom Brown   19      tom@example.com  Computer Science   \n",
       "3         104      Emily Davis   22    emily@example.com       Engineering   \n",
       "4         105  Michael Johnson   23  michael@example.com         Economics   \n",
       "\n",
       "  grade enrollment_date  \n",
       "0     A      2021-09-01  \n",
       "1     B      2020-09-01  \n",
       "2     A      2021-01-01  \n",
       "3     C      2020-01-01  \n",
       "4     B      2019-09-01  "
      ]
     },
     "execution_count": 41,
     "metadata": {},
     "output_type": "execute_result"
    }
   ],
   "source": [
    "df=pd.DataFrame(data)\n",
    "df"
   ]
  },
  {
   "cell_type": "code",
   "execution_count": 6,
   "id": "56675ee7-7f35-4070-8912-acd5c4ee2f27",
   "metadata": {},
   "outputs": [
    {
     "data": {
      "text/html": [
       "<div>\n",
       "<style scoped>\n",
       "    .dataframe tbody tr th:only-of-type {\n",
       "        vertical-align: middle;\n",
       "    }\n",
       "\n",
       "    .dataframe tbody tr th {\n",
       "        vertical-align: top;\n",
       "    }\n",
       "\n",
       "    .dataframe thead th {\n",
       "        text-align: right;\n",
       "    }\n",
       "</style>\n",
       "<table border=\"1\" class=\"dataframe\">\n",
       "  <thead>\n",
       "    <tr style=\"text-align: right;\">\n",
       "      <th></th>\n",
       "      <th>student_id</th>\n",
       "      <th>name</th>\n",
       "      <th>age</th>\n",
       "      <th>email</th>\n",
       "      <th>course</th>\n",
       "      <th>grade</th>\n",
       "      <th>enrollment_date</th>\n",
       "    </tr>\n",
       "  </thead>\n",
       "  <tbody>\n",
       "    <tr>\n",
       "      <th>1</th>\n",
       "      <td>101</td>\n",
       "      <td>John Doe</td>\n",
       "      <td>20</td>\n",
       "      <td>john@example.com</td>\n",
       "      <td>Physics</td>\n",
       "      <td>A</td>\n",
       "      <td>2021-09-01</td>\n",
       "    </tr>\n",
       "    <tr>\n",
       "      <th>2</th>\n",
       "      <td>102</td>\n",
       "      <td>Jane Smith</td>\n",
       "      <td>21</td>\n",
       "      <td>jane@example.com</td>\n",
       "      <td>Mathematics</td>\n",
       "      <td>B</td>\n",
       "      <td>2020-09-01</td>\n",
       "    </tr>\n",
       "    <tr>\n",
       "      <th>3</th>\n",
       "      <td>103</td>\n",
       "      <td>Tom Brown</td>\n",
       "      <td>19</td>\n",
       "      <td>tom@example.com</td>\n",
       "      <td>Computer Science</td>\n",
       "      <td>A</td>\n",
       "      <td>2021-01-01</td>\n",
       "    </tr>\n",
       "    <tr>\n",
       "      <th>4</th>\n",
       "      <td>104</td>\n",
       "      <td>Emily Davis</td>\n",
       "      <td>22</td>\n",
       "      <td>emily@example.com</td>\n",
       "      <td>Engineering</td>\n",
       "      <td>C</td>\n",
       "      <td>2020-01-01</td>\n",
       "    </tr>\n",
       "    <tr>\n",
       "      <th>5</th>\n",
       "      <td>105</td>\n",
       "      <td>Michael Johnson</td>\n",
       "      <td>23</td>\n",
       "      <td>michael@example.com</td>\n",
       "      <td>Economics</td>\n",
       "      <td>B</td>\n",
       "      <td>2019-09-01</td>\n",
       "    </tr>\n",
       "  </tbody>\n",
       "</table>\n",
       "</div>"
      ],
      "text/plain": [
       "   student_id             name  age                email            course  \\\n",
       "1         101         John Doe   20     john@example.com           Physics   \n",
       "2         102       Jane Smith   21     jane@example.com       Mathematics   \n",
       "3         103        Tom Brown   19      tom@example.com  Computer Science   \n",
       "4         104      Emily Davis   22    emily@example.com       Engineering   \n",
       "5         105  Michael Johnson   23  michael@example.com         Economics   \n",
       "\n",
       "  grade enrollment_date  \n",
       "1     A      2021-09-01  \n",
       "2     B      2020-09-01  \n",
       "3     A      2021-01-01  \n",
       "4     C      2020-01-01  \n",
       "5     B      2019-09-01  "
      ]
     },
     "execution_count": 6,
     "metadata": {},
     "output_type": "execute_result"
    }
   ],
   "source": [
    "df.index=range(1,len(df)+1)\n",
    "df"
   ]
  },
  {
   "cell_type": "code",
   "execution_count": 7,
   "id": "01e4278e-4bff-4d44-b986-a2840f6f48b1",
   "metadata": {},
   "outputs": [
    {
     "data": {
      "text/html": [
       "<div>\n",
       "<style scoped>\n",
       "    .dataframe tbody tr th:only-of-type {\n",
       "        vertical-align: middle;\n",
       "    }\n",
       "\n",
       "    .dataframe tbody tr th {\n",
       "        vertical-align: top;\n",
       "    }\n",
       "\n",
       "    .dataframe thead th {\n",
       "        text-align: right;\n",
       "    }\n",
       "</style>\n",
       "<table border=\"1\" class=\"dataframe\">\n",
       "  <thead>\n",
       "    <tr style=\"text-align: right;\">\n",
       "      <th></th>\n",
       "      <th>student_id</th>\n",
       "      <th>name</th>\n",
       "      <th>age</th>\n",
       "      <th>email</th>\n",
       "      <th>course</th>\n",
       "      <th>grade</th>\n",
       "      <th>enrollment_date</th>\n",
       "    </tr>\n",
       "  </thead>\n",
       "  <tbody>\n",
       "    <tr>\n",
       "      <th>1</th>\n",
       "      <td>101</td>\n",
       "      <td>John Doe</td>\n",
       "      <td>20</td>\n",
       "      <td>john@example.com</td>\n",
       "      <td>Physics</td>\n",
       "      <td>A</td>\n",
       "      <td>2021-09-01</td>\n",
       "    </tr>\n",
       "    <tr>\n",
       "      <th>3</th>\n",
       "      <td>103</td>\n",
       "      <td>Tom Brown</td>\n",
       "      <td>19</td>\n",
       "      <td>tom@example.com</td>\n",
       "      <td>Computer Science</td>\n",
       "      <td>A</td>\n",
       "      <td>2021-01-01</td>\n",
       "    </tr>\n",
       "  </tbody>\n",
       "</table>\n",
       "</div>"
      ],
      "text/plain": [
       "   student_id       name  age             email            course grade  \\\n",
       "1         101   John Doe   20  john@example.com           Physics     A   \n",
       "3         103  Tom Brown   19   tom@example.com  Computer Science     A   \n",
       "\n",
       "  enrollment_date  \n",
       "1      2021-09-01  \n",
       "3      2021-01-01  "
      ]
     },
     "execution_count": 7,
     "metadata": {},
     "output_type": "execute_result"
    }
   ],
   "source": [
    "# 1. Filter students with grade 'A'\n",
    "x=df[df[\"grade\"]==\"A\"]\n",
    "x"
   ]
  },
  {
   "cell_type": "code",
   "execution_count": 8,
   "id": "04143b4c-ba31-45a5-83b5-a0e00b47a1fa",
   "metadata": {},
   "outputs": [
    {
     "data": {
      "text/html": [
       "<div>\n",
       "<style scoped>\n",
       "    .dataframe tbody tr th:only-of-type {\n",
       "        vertical-align: middle;\n",
       "    }\n",
       "\n",
       "    .dataframe tbody tr th {\n",
       "        vertical-align: top;\n",
       "    }\n",
       "\n",
       "    .dataframe thead th {\n",
       "        text-align: right;\n",
       "    }\n",
       "</style>\n",
       "<table border=\"1\" class=\"dataframe\">\n",
       "  <thead>\n",
       "    <tr style=\"text-align: right;\">\n",
       "      <th></th>\n",
       "      <th>student_id</th>\n",
       "      <th>name</th>\n",
       "      <th>age</th>\n",
       "      <th>email</th>\n",
       "      <th>course</th>\n",
       "      <th>grade</th>\n",
       "      <th>enrollment_date</th>\n",
       "      <th>passed</th>\n",
       "    </tr>\n",
       "  </thead>\n",
       "  <tbody>\n",
       "    <tr>\n",
       "      <th>1</th>\n",
       "      <td>101</td>\n",
       "      <td>John Doe</td>\n",
       "      <td>20</td>\n",
       "      <td>john@example.com</td>\n",
       "      <td>Physics</td>\n",
       "      <td>A</td>\n",
       "      <td>2021-09-01</td>\n",
       "      <td>True</td>\n",
       "    </tr>\n",
       "    <tr>\n",
       "      <th>2</th>\n",
       "      <td>102</td>\n",
       "      <td>Jane Smith</td>\n",
       "      <td>21</td>\n",
       "      <td>jane@example.com</td>\n",
       "      <td>Mathematics</td>\n",
       "      <td>B</td>\n",
       "      <td>2020-09-01</td>\n",
       "      <td>True</td>\n",
       "    </tr>\n",
       "    <tr>\n",
       "      <th>3</th>\n",
       "      <td>103</td>\n",
       "      <td>Tom Brown</td>\n",
       "      <td>19</td>\n",
       "      <td>tom@example.com</td>\n",
       "      <td>Computer Science</td>\n",
       "      <td>A</td>\n",
       "      <td>2021-01-01</td>\n",
       "      <td>True</td>\n",
       "    </tr>\n",
       "    <tr>\n",
       "      <th>4</th>\n",
       "      <td>104</td>\n",
       "      <td>Emily Davis</td>\n",
       "      <td>22</td>\n",
       "      <td>emily@example.com</td>\n",
       "      <td>Engineering</td>\n",
       "      <td>C</td>\n",
       "      <td>2020-01-01</td>\n",
       "      <td>False</td>\n",
       "    </tr>\n",
       "    <tr>\n",
       "      <th>5</th>\n",
       "      <td>105</td>\n",
       "      <td>Michael Johnson</td>\n",
       "      <td>23</td>\n",
       "      <td>michael@example.com</td>\n",
       "      <td>Economics</td>\n",
       "      <td>B</td>\n",
       "      <td>2019-09-01</td>\n",
       "      <td>True</td>\n",
       "    </tr>\n",
       "  </tbody>\n",
       "</table>\n",
       "</div>"
      ],
      "text/plain": [
       "   student_id             name  age                email            course  \\\n",
       "1         101         John Doe   20     john@example.com           Physics   \n",
       "2         102       Jane Smith   21     jane@example.com       Mathematics   \n",
       "3         103        Tom Brown   19      tom@example.com  Computer Science   \n",
       "4         104      Emily Davis   22    emily@example.com       Engineering   \n",
       "5         105  Michael Johnson   23  michael@example.com         Economics   \n",
       "\n",
       "  grade enrollment_date  passed  \n",
       "1     A      2021-09-01    True  \n",
       "2     B      2020-09-01    True  \n",
       "3     A      2021-01-01    True  \n",
       "4     C      2020-01-01   False  \n",
       "5     B      2019-09-01    True  "
      ]
     },
     "execution_count": 8,
     "metadata": {},
     "output_type": "execute_result"
    }
   ],
   "source": [
    "# 2. Add a new column 'passed' (True if grade is 'A' or 'B', otherwise False)\n",
    "df[\"passed\"]=df[\"grade\"].apply(lambda x: True if x in [\"A\",\"B\"] else False)\n",
    "df"
   ]
  },
  {
   "cell_type": "code",
   "execution_count": 10,
   "id": "ac7a749f-b415-4148-9069-34d1b0dc51ff",
   "metadata": {},
   "outputs": [
    {
     "data": {
      "text/plain": [
       "21.0"
      ]
     },
     "execution_count": 10,
     "metadata": {},
     "output_type": "execute_result"
    }
   ],
   "source": [
    "# 3. Calculate the average age of the students.\n",
    "avg_age=df[\"age\"].mean()\n",
    "avg_age"
   ]
  },
  {
   "cell_type": "code",
   "execution_count": 11,
   "id": "4bca5285-56de-4bc7-8f7d-9a88e671514f",
   "metadata": {},
   "outputs": [
    {
     "data": {
      "text/html": [
       "<div>\n",
       "<style scoped>\n",
       "    .dataframe tbody tr th:only-of-type {\n",
       "        vertical-align: middle;\n",
       "    }\n",
       "\n",
       "    .dataframe tbody tr th {\n",
       "        vertical-align: top;\n",
       "    }\n",
       "\n",
       "    .dataframe thead th {\n",
       "        text-align: right;\n",
       "    }\n",
       "</style>\n",
       "<table border=\"1\" class=\"dataframe\">\n",
       "  <thead>\n",
       "    <tr style=\"text-align: right;\">\n",
       "      <th></th>\n",
       "      <th>student_id</th>\n",
       "      <th>name</th>\n",
       "      <th>age</th>\n",
       "      <th>email</th>\n",
       "      <th>course</th>\n",
       "      <th>grade</th>\n",
       "      <th>enrollment_date</th>\n",
       "      <th>passed</th>\n",
       "    </tr>\n",
       "  </thead>\n",
       "  <tbody>\n",
       "    <tr>\n",
       "      <th>5</th>\n",
       "      <td>105</td>\n",
       "      <td>Michael Johnson</td>\n",
       "      <td>23</td>\n",
       "      <td>michael@example.com</td>\n",
       "      <td>Economics</td>\n",
       "      <td>B</td>\n",
       "      <td>2019-09-01</td>\n",
       "      <td>True</td>\n",
       "    </tr>\n",
       "    <tr>\n",
       "      <th>4</th>\n",
       "      <td>104</td>\n",
       "      <td>Emily Davis</td>\n",
       "      <td>22</td>\n",
       "      <td>emily@example.com</td>\n",
       "      <td>Engineering</td>\n",
       "      <td>C</td>\n",
       "      <td>2020-01-01</td>\n",
       "      <td>False</td>\n",
       "    </tr>\n",
       "    <tr>\n",
       "      <th>2</th>\n",
       "      <td>102</td>\n",
       "      <td>Jane Smith</td>\n",
       "      <td>21</td>\n",
       "      <td>jane@example.com</td>\n",
       "      <td>Mathematics</td>\n",
       "      <td>B</td>\n",
       "      <td>2020-09-01</td>\n",
       "      <td>True</td>\n",
       "    </tr>\n",
       "    <tr>\n",
       "      <th>3</th>\n",
       "      <td>103</td>\n",
       "      <td>Tom Brown</td>\n",
       "      <td>19</td>\n",
       "      <td>tom@example.com</td>\n",
       "      <td>Computer Science</td>\n",
       "      <td>A</td>\n",
       "      <td>2021-01-01</td>\n",
       "      <td>True</td>\n",
       "    </tr>\n",
       "    <tr>\n",
       "      <th>1</th>\n",
       "      <td>101</td>\n",
       "      <td>John Doe</td>\n",
       "      <td>20</td>\n",
       "      <td>john@example.com</td>\n",
       "      <td>Physics</td>\n",
       "      <td>A</td>\n",
       "      <td>2021-09-01</td>\n",
       "      <td>True</td>\n",
       "    </tr>\n",
       "  </tbody>\n",
       "</table>\n",
       "</div>"
      ],
      "text/plain": [
       "   student_id             name  age                email            course  \\\n",
       "5         105  Michael Johnson   23  michael@example.com         Economics   \n",
       "4         104      Emily Davis   22    emily@example.com       Engineering   \n",
       "2         102       Jane Smith   21     jane@example.com       Mathematics   \n",
       "3         103        Tom Brown   19      tom@example.com  Computer Science   \n",
       "1         101         John Doe   20     john@example.com           Physics   \n",
       "\n",
       "  grade enrollment_date  passed  \n",
       "5     B      2019-09-01    True  \n",
       "4     C      2020-01-01   False  \n",
       "2     B      2020-09-01    True  \n",
       "3     A      2021-01-01    True  \n",
       "1     A      2021-09-01    True  "
      ]
     },
     "execution_count": 11,
     "metadata": {},
     "output_type": "execute_result"
    }
   ],
   "source": [
    "# 4. Sort the DataFrame by enrollment_date.\n",
    "y=df.sort_values(by=\"enrollment_date\")\n",
    "y"
   ]
  },
  {
   "cell_type": "code",
   "execution_count": 12,
   "id": "d84309a9-18c8-4476-b029-c59d07e0f83e",
   "metadata": {},
   "outputs": [
    {
     "data": {
      "text/html": [
       "<div>\n",
       "<style scoped>\n",
       "    .dataframe tbody tr th:only-of-type {\n",
       "        vertical-align: middle;\n",
       "    }\n",
       "\n",
       "    .dataframe tbody tr th {\n",
       "        vertical-align: top;\n",
       "    }\n",
       "\n",
       "    .dataframe thead th {\n",
       "        text-align: right;\n",
       "    }\n",
       "</style>\n",
       "<table border=\"1\" class=\"dataframe\">\n",
       "  <thead>\n",
       "    <tr style=\"text-align: right;\">\n",
       "      <th></th>\n",
       "      <th>student_id</th>\n",
       "      <th>name</th>\n",
       "      <th>age</th>\n",
       "      <th>email</th>\n",
       "      <th>course</th>\n",
       "      <th>grade</th>\n",
       "      <th>enrollment_date</th>\n",
       "      <th>passed</th>\n",
       "    </tr>\n",
       "  </thead>\n",
       "  <tbody>\n",
       "    <tr>\n",
       "      <th>1</th>\n",
       "      <td>101</td>\n",
       "      <td>John Doe</td>\n",
       "      <td>20</td>\n",
       "      <td>john@example.com</td>\n",
       "      <td>Physics</td>\n",
       "      <td>A</td>\n",
       "      <td>2021-09-01</td>\n",
       "      <td>True</td>\n",
       "    </tr>\n",
       "    <tr>\n",
       "      <th>2</th>\n",
       "      <td>102</td>\n",
       "      <td>Jane Smith</td>\n",
       "      <td>21</td>\n",
       "      <td>jane@example.com</td>\n",
       "      <td>Mathematics</td>\n",
       "      <td>B</td>\n",
       "      <td>2020-09-01</td>\n",
       "      <td>True</td>\n",
       "    </tr>\n",
       "    <tr>\n",
       "      <th>3</th>\n",
       "      <td>103</td>\n",
       "      <td>Tom Brown</td>\n",
       "      <td>19</td>\n",
       "      <td>tom@example.com</td>\n",
       "      <td>Computer Science</td>\n",
       "      <td>A</td>\n",
       "      <td>2021-01-01</td>\n",
       "      <td>True</td>\n",
       "    </tr>\n",
       "    <tr>\n",
       "      <th>4</th>\n",
       "      <td>104</td>\n",
       "      <td>Emily Davis</td>\n",
       "      <td>22</td>\n",
       "      <td>emily@example.com</td>\n",
       "      <td>Engineering</td>\n",
       "      <td>C</td>\n",
       "      <td>2020-01-01</td>\n",
       "      <td>False</td>\n",
       "    </tr>\n",
       "    <tr>\n",
       "      <th>5</th>\n",
       "      <td>105</td>\n",
       "      <td>Michael Johnson</td>\n",
       "      <td>23</td>\n",
       "      <td>michael@example.com</td>\n",
       "      <td>Economics</td>\n",
       "      <td>B</td>\n",
       "      <td>2019-09-01</td>\n",
       "      <td>True</td>\n",
       "    </tr>\n",
       "  </tbody>\n",
       "</table>\n",
       "</div>"
      ],
      "text/plain": [
       "   student_id             name  age                email            course  \\\n",
       "1         101         John Doe   20     john@example.com           Physics   \n",
       "2         102       Jane Smith   21     jane@example.com       Mathematics   \n",
       "3         103        Tom Brown   19      tom@example.com  Computer Science   \n",
       "4         104      Emily Davis   22    emily@example.com       Engineering   \n",
       "5         105  Michael Johnson   23  michael@example.com         Economics   \n",
       "\n",
       "  grade enrollment_date  passed  \n",
       "1     A      2021-09-01    True  \n",
       "2     B      2020-09-01    True  \n",
       "3     A      2021-01-01    True  \n",
       "4     C      2020-01-01   False  \n",
       "5     B      2019-09-01    True  "
      ]
     },
     "execution_count": 12,
     "metadata": {},
     "output_type": "execute_result"
    }
   ],
   "source": [
    "df"
   ]
  },
  {
   "cell_type": "code",
   "execution_count": 13,
   "id": "1d4c881f-1642-466e-8cca-a8320cf028b0",
   "metadata": {},
   "outputs": [
    {
     "data": {
      "text/plain": [
       "course\n",
       "Physics             1\n",
       "Mathematics         1\n",
       "Computer Science    1\n",
       "Engineering         1\n",
       "Economics           1\n",
       "Name: count, dtype: int64"
      ]
     },
     "execution_count": 13,
     "metadata": {},
     "output_type": "execute_result"
    }
   ],
   "source": [
    "# Count the Number of Students in Each Course\n",
    "z=df[\"course\"].value_counts()\n",
    "z"
   ]
  },
  {
   "cell_type": "code",
   "execution_count": 14,
   "id": "806b19ec-c573-477d-884a-09e888f290e9",
   "metadata": {},
   "outputs": [
    {
     "data": {
      "text/html": [
       "<div>\n",
       "<style scoped>\n",
       "    .dataframe tbody tr th:only-of-type {\n",
       "        vertical-align: middle;\n",
       "    }\n",
       "\n",
       "    .dataframe tbody tr th {\n",
       "        vertical-align: top;\n",
       "    }\n",
       "\n",
       "    .dataframe thead th {\n",
       "        text-align: right;\n",
       "    }\n",
       "</style>\n",
       "<table border=\"1\" class=\"dataframe\">\n",
       "  <thead>\n",
       "    <tr style=\"text-align: right;\">\n",
       "      <th></th>\n",
       "      <th>student_id</th>\n",
       "      <th>name</th>\n",
       "      <th>age</th>\n",
       "      <th>email</th>\n",
       "      <th>course</th>\n",
       "      <th>grade</th>\n",
       "      <th>enrollment_date</th>\n",
       "      <th>passed</th>\n",
       "    </tr>\n",
       "  </thead>\n",
       "  <tbody>\n",
       "    <tr>\n",
       "      <th>1</th>\n",
       "      <td>101</td>\n",
       "      <td>John Doe</td>\n",
       "      <td>20</td>\n",
       "      <td>john@example.com</td>\n",
       "      <td>Physics</td>\n",
       "      <td>A</td>\n",
       "      <td>2021-09-01</td>\n",
       "      <td>True</td>\n",
       "    </tr>\n",
       "    <tr>\n",
       "      <th>3</th>\n",
       "      <td>103</td>\n",
       "      <td>Tom Brown</td>\n",
       "      <td>19</td>\n",
       "      <td>tom@example.com</td>\n",
       "      <td>Computer Science</td>\n",
       "      <td>A</td>\n",
       "      <td>2021-01-01</td>\n",
       "      <td>True</td>\n",
       "    </tr>\n",
       "  </tbody>\n",
       "</table>\n",
       "</div>"
      ],
      "text/plain": [
       "   student_id       name  age             email            course grade  \\\n",
       "1         101   John Doe   20  john@example.com           Physics     A   \n",
       "3         103  Tom Brown   19   tom@example.com  Computer Science     A   \n",
       "\n",
       "  enrollment_date  passed  \n",
       "1      2021-09-01    True  \n",
       "3      2021-01-01    True  "
      ]
     },
     "execution_count": 14,
     "metadata": {},
     "output_type": "execute_result"
    }
   ],
   "source": [
    "# Find Students Enrolled After a Specific Date.\n",
    "date_filter= datetime(2020,9,1)\n",
    "stude_after_date=df[df[\"enrollment_date\"]> date_filter]\n",
    "stude_after_date"
   ]
  },
  {
   "cell_type": "code",
   "execution_count": 15,
   "id": "a48b4327-1626-41eb-affc-2f71952b31ee",
   "metadata": {},
   "outputs": [
    {
     "data": {
      "text/html": [
       "<div>\n",
       "<style scoped>\n",
       "    .dataframe tbody tr th:only-of-type {\n",
       "        vertical-align: middle;\n",
       "    }\n",
       "\n",
       "    .dataframe tbody tr th {\n",
       "        vertical-align: top;\n",
       "    }\n",
       "\n",
       "    .dataframe thead th {\n",
       "        text-align: right;\n",
       "    }\n",
       "</style>\n",
       "<table border=\"1\" class=\"dataframe\">\n",
       "  <thead>\n",
       "    <tr style=\"text-align: right;\">\n",
       "      <th></th>\n",
       "      <th>student_id</th>\n",
       "      <th>name</th>\n",
       "      <th>age</th>\n",
       "      <th>email</th>\n",
       "      <th>course</th>\n",
       "      <th>grade</th>\n",
       "      <th>enrollment_date</th>\n",
       "      <th>passed</th>\n",
       "    </tr>\n",
       "  </thead>\n",
       "  <tbody>\n",
       "    <tr>\n",
       "      <th>1</th>\n",
       "      <td>101</td>\n",
       "      <td>John Doe</td>\n",
       "      <td>20</td>\n",
       "      <td>john@example.com</td>\n",
       "      <td>Physics</td>\n",
       "      <td>A</td>\n",
       "      <td>2021-09-01</td>\n",
       "      <td>True</td>\n",
       "    </tr>\n",
       "    <tr>\n",
       "      <th>2</th>\n",
       "      <td>102</td>\n",
       "      <td>Jane Smith</td>\n",
       "      <td>21</td>\n",
       "      <td>jane@example.com</td>\n",
       "      <td>Mathematics</td>\n",
       "      <td>B</td>\n",
       "      <td>2020-09-01</td>\n",
       "      <td>True</td>\n",
       "    </tr>\n",
       "    <tr>\n",
       "      <th>3</th>\n",
       "      <td>103</td>\n",
       "      <td>Tom Brown</td>\n",
       "      <td>19</td>\n",
       "      <td>tom@example.com</td>\n",
       "      <td>Computer Science</td>\n",
       "      <td>A</td>\n",
       "      <td>2021-01-01</td>\n",
       "      <td>True</td>\n",
       "    </tr>\n",
       "    <tr>\n",
       "      <th>4</th>\n",
       "      <td>104</td>\n",
       "      <td>Emily Davis</td>\n",
       "      <td>22</td>\n",
       "      <td>emily@example.com</td>\n",
       "      <td>Engineering</td>\n",
       "      <td>C</td>\n",
       "      <td>2020-01-01</td>\n",
       "      <td>False</td>\n",
       "    </tr>\n",
       "    <tr>\n",
       "      <th>5</th>\n",
       "      <td>105</td>\n",
       "      <td>Michael Johnson</td>\n",
       "      <td>23</td>\n",
       "      <td>michael@example.com</td>\n",
       "      <td>Economics</td>\n",
       "      <td>B</td>\n",
       "      <td>2019-09-01</td>\n",
       "      <td>True</td>\n",
       "    </tr>\n",
       "  </tbody>\n",
       "</table>\n",
       "</div>"
      ],
      "text/plain": [
       "   student_id             name  age                email            course  \\\n",
       "1         101         John Doe   20     john@example.com           Physics   \n",
       "2         102       Jane Smith   21     jane@example.com       Mathematics   \n",
       "3         103        Tom Brown   19      tom@example.com  Computer Science   \n",
       "4         104      Emily Davis   22    emily@example.com       Engineering   \n",
       "5         105  Michael Johnson   23  michael@example.com         Economics   \n",
       "\n",
       "  grade enrollment_date  passed  \n",
       "1     A      2021-09-01    True  \n",
       "2     B      2020-09-01    True  \n",
       "3     A      2021-01-01    True  \n",
       "4     C      2020-01-01   False  \n",
       "5     B      2019-09-01    True  "
      ]
     },
     "execution_count": 15,
     "metadata": {},
     "output_type": "execute_result"
    }
   ],
   "source": [
    "df"
   ]
  },
  {
   "cell_type": "code",
   "execution_count": 17,
   "id": "b555a755-1ab4-4f77-8032-76b379871ddb",
   "metadata": {},
   "outputs": [
    {
     "data": {
      "text/html": [
       "<div>\n",
       "<style scoped>\n",
       "    .dataframe tbody tr th:only-of-type {\n",
       "        vertical-align: middle;\n",
       "    }\n",
       "\n",
       "    .dataframe tbody tr th {\n",
       "        vertical-align: top;\n",
       "    }\n",
       "\n",
       "    .dataframe thead th {\n",
       "        text-align: right;\n",
       "    }\n",
       "</style>\n",
       "<table border=\"1\" class=\"dataframe\">\n",
       "  <thead>\n",
       "    <tr style=\"text-align: right;\">\n",
       "      <th></th>\n",
       "      <th>student_id</th>\n",
       "      <th>name</th>\n",
       "      <th>age</th>\n",
       "      <th>email</th>\n",
       "      <th>course</th>\n",
       "      <th>grade</th>\n",
       "      <th>enrollment_date</th>\n",
       "      <th>passed</th>\n",
       "    </tr>\n",
       "  </thead>\n",
       "  <tbody>\n",
       "    <tr>\n",
       "      <th>1</th>\n",
       "      <td>101</td>\n",
       "      <td>John Doe</td>\n",
       "      <td>20</td>\n",
       "      <td>john@example.com</td>\n",
       "      <td>Physics</td>\n",
       "      <td>A</td>\n",
       "      <td>2021-09-01</td>\n",
       "      <td>True</td>\n",
       "    </tr>\n",
       "    <tr>\n",
       "      <th>2</th>\n",
       "      <td>102</td>\n",
       "      <td>Jane Smith</td>\n",
       "      <td>21</td>\n",
       "      <td>jane@example.com</td>\n",
       "      <td>Mathematics</td>\n",
       "      <td>A</td>\n",
       "      <td>2020-09-01</td>\n",
       "      <td>True</td>\n",
       "    </tr>\n",
       "    <tr>\n",
       "      <th>3</th>\n",
       "      <td>103</td>\n",
       "      <td>Tom Brown</td>\n",
       "      <td>19</td>\n",
       "      <td>tom@example.com</td>\n",
       "      <td>Computer Science</td>\n",
       "      <td>A</td>\n",
       "      <td>2021-01-01</td>\n",
       "      <td>True</td>\n",
       "    </tr>\n",
       "    <tr>\n",
       "      <th>4</th>\n",
       "      <td>104</td>\n",
       "      <td>Emily Davis</td>\n",
       "      <td>22</td>\n",
       "      <td>emily@example.com</td>\n",
       "      <td>Engineering</td>\n",
       "      <td>C</td>\n",
       "      <td>2020-01-01</td>\n",
       "      <td>False</td>\n",
       "    </tr>\n",
       "    <tr>\n",
       "      <th>5</th>\n",
       "      <td>105</td>\n",
       "      <td>Michael Johnson</td>\n",
       "      <td>23</td>\n",
       "      <td>michael@example.com</td>\n",
       "      <td>Economics</td>\n",
       "      <td>B</td>\n",
       "      <td>2019-09-01</td>\n",
       "      <td>True</td>\n",
       "    </tr>\n",
       "  </tbody>\n",
       "</table>\n",
       "</div>"
      ],
      "text/plain": [
       "   student_id             name  age                email            course  \\\n",
       "1         101         John Doe   20     john@example.com           Physics   \n",
       "2         102       Jane Smith   21     jane@example.com       Mathematics   \n",
       "3         103        Tom Brown   19      tom@example.com  Computer Science   \n",
       "4         104      Emily Davis   22    emily@example.com       Engineering   \n",
       "5         105  Michael Johnson   23  michael@example.com         Economics   \n",
       "\n",
       "  grade enrollment_date  passed  \n",
       "1     A      2021-09-01    True  \n",
       "2     A      2020-09-01    True  \n",
       "3     A      2021-01-01    True  \n",
       "4     C      2020-01-01   False  \n",
       "5     B      2019-09-01    True  "
      ]
     },
     "execution_count": 17,
     "metadata": {},
     "output_type": "execute_result"
    }
   ],
   "source": [
    "# Update Grades for a Student\n",
    "df.loc[df[\"student_id\"]==102, \"grade\"]=\"A\"\n",
    "df"
   ]
  },
  {
   "cell_type": "code",
   "execution_count": 18,
   "id": "fc34a025-c52c-4c0b-a29e-9b84ab1e25b8",
   "metadata": {},
   "outputs": [
    {
     "data": {
      "text/html": [
       "<div>\n",
       "<style scoped>\n",
       "    .dataframe tbody tr th:only-of-type {\n",
       "        vertical-align: middle;\n",
       "    }\n",
       "\n",
       "    .dataframe tbody tr th {\n",
       "        vertical-align: top;\n",
       "    }\n",
       "\n",
       "    .dataframe thead th {\n",
       "        text-align: right;\n",
       "    }\n",
       "</style>\n",
       "<table border=\"1\" class=\"dataframe\">\n",
       "  <thead>\n",
       "    <tr style=\"text-align: right;\">\n",
       "      <th></th>\n",
       "      <th>student_id</th>\n",
       "      <th>name</th>\n",
       "      <th>age</th>\n",
       "      <th>email</th>\n",
       "      <th>course</th>\n",
       "      <th>grade</th>\n",
       "      <th>enrollment_date</th>\n",
       "      <th>passed</th>\n",
       "    </tr>\n",
       "  </thead>\n",
       "  <tbody>\n",
       "    <tr>\n",
       "      <th>2</th>\n",
       "      <td>102</td>\n",
       "      <td>Jane Smith</td>\n",
       "      <td>21</td>\n",
       "      <td>jane@example.com</td>\n",
       "      <td>Mathematics</td>\n",
       "      <td>A</td>\n",
       "      <td>2020-09-01</td>\n",
       "      <td>True</td>\n",
       "    </tr>\n",
       "    <tr>\n",
       "      <th>4</th>\n",
       "      <td>104</td>\n",
       "      <td>Emily Davis</td>\n",
       "      <td>22</td>\n",
       "      <td>emily@example.com</td>\n",
       "      <td>Engineering</td>\n",
       "      <td>C</td>\n",
       "      <td>2020-01-01</td>\n",
       "      <td>False</td>\n",
       "    </tr>\n",
       "    <tr>\n",
       "      <th>5</th>\n",
       "      <td>105</td>\n",
       "      <td>Michael Johnson</td>\n",
       "      <td>23</td>\n",
       "      <td>michael@example.com</td>\n",
       "      <td>Economics</td>\n",
       "      <td>B</td>\n",
       "      <td>2019-09-01</td>\n",
       "      <td>True</td>\n",
       "    </tr>\n",
       "  </tbody>\n",
       "</table>\n",
       "</div>"
      ],
      "text/plain": [
       "   student_id             name  age                email       course grade  \\\n",
       "2         102       Jane Smith   21     jane@example.com  Mathematics     A   \n",
       "4         104      Emily Davis   22    emily@example.com  Engineering     C   \n",
       "5         105  Michael Johnson   23  michael@example.com    Economics     B   \n",
       "\n",
       "  enrollment_date  passed  \n",
       "2      2020-09-01    True  \n",
       "4      2020-01-01   False  \n",
       "5      2019-09-01    True  "
      ]
     },
     "execution_count": 18,
     "metadata": {},
     "output_type": "execute_result"
    }
   ],
   "source": [
    "# Update Grades for a Student\n",
    "df=df[df[\"age\"]>20]\n",
    "df"
   ]
  },
  {
   "cell_type": "code",
   "execution_count": 19,
   "id": "12326a87-4891-4af0-b1e5-62a241bf16ea",
   "metadata": {},
   "outputs": [
    {
     "data": {
      "text/html": [
       "<div>\n",
       "<style scoped>\n",
       "    .dataframe tbody tr th:only-of-type {\n",
       "        vertical-align: middle;\n",
       "    }\n",
       "\n",
       "    .dataframe tbody tr th {\n",
       "        vertical-align: top;\n",
       "    }\n",
       "\n",
       "    .dataframe thead th {\n",
       "        text-align: right;\n",
       "    }\n",
       "</style>\n",
       "<table border=\"1\" class=\"dataframe\">\n",
       "  <thead>\n",
       "    <tr style=\"text-align: right;\">\n",
       "      <th></th>\n",
       "      <th>student_id</th>\n",
       "      <th>name</th>\n",
       "      <th>age</th>\n",
       "      <th>email</th>\n",
       "      <th>course</th>\n",
       "      <th>grade</th>\n",
       "      <th>enrollment_date</th>\n",
       "      <th>passed</th>\n",
       "    </tr>\n",
       "  </thead>\n",
       "  <tbody>\n",
       "    <tr>\n",
       "      <th>2</th>\n",
       "      <td>102</td>\n",
       "      <td>Jane Smith</td>\n",
       "      <td>21</td>\n",
       "      <td>jane@example.com</td>\n",
       "      <td>Mathematics</td>\n",
       "      <td>A</td>\n",
       "      <td>2020-09-01</td>\n",
       "      <td>True</td>\n",
       "    </tr>\n",
       "    <tr>\n",
       "      <th>4</th>\n",
       "      <td>104</td>\n",
       "      <td>Emily Davis</td>\n",
       "      <td>22</td>\n",
       "      <td>emily@example.com</td>\n",
       "      <td>Engineering</td>\n",
       "      <td>C</td>\n",
       "      <td>2020-01-01</td>\n",
       "      <td>False</td>\n",
       "    </tr>\n",
       "    <tr>\n",
       "      <th>5</th>\n",
       "      <td>105</td>\n",
       "      <td>Michael Johnson</td>\n",
       "      <td>23</td>\n",
       "      <td>michael@example.com</td>\n",
       "      <td>Economics</td>\n",
       "      <td>B</td>\n",
       "      <td>2019-09-01</td>\n",
       "      <td>True</td>\n",
       "    </tr>\n",
       "  </tbody>\n",
       "</table>\n",
       "</div>"
      ],
      "text/plain": [
       "   student_id             name  age                email       course grade  \\\n",
       "2         102       Jane Smith   21     jane@example.com  Mathematics     A   \n",
       "4         104      Emily Davis   22    emily@example.com  Engineering     C   \n",
       "5         105  Michael Johnson   23  michael@example.com    Economics     B   \n",
       "\n",
       "  enrollment_date  passed  \n",
       "2      2020-09-01    True  \n",
       "4      2020-01-01   False  \n",
       "5      2019-09-01    True  "
      ]
     },
     "execution_count": 19,
     "metadata": {},
     "output_type": "execute_result"
    }
   ],
   "source": [
    "df"
   ]
  },
  {
   "cell_type": "code",
   "execution_count": 22,
   "id": "eb3c8298-3333-4797-b7d9-47ed06177d2a",
   "metadata": {},
   "outputs": [
    {
     "data": {
      "text/plain": [
       "grade\n",
       "A    19.5\n",
       "B    22.0\n",
       "C    22.0\n",
       "Name: age, dtype: float64"
      ]
     },
     "execution_count": 22,
     "metadata": {},
     "output_type": "execute_result"
    }
   ],
   "source": [
    "# Group Students by Grade and Get Average Age.\n",
    "avg_age_by_grade = df.groupby(\"grade\")[\"age\"].mean()\n",
    "avg_age_by_grade \n"
   ]
  },
  {
   "cell_type": "code",
   "execution_count": 23,
   "id": "e62f1d6e-2688-4d3b-a300-7a3482a533f6",
   "metadata": {},
   "outputs": [
    {
     "data": {
      "text/plain": [
       "student_id         0\n",
       "name               0\n",
       "age                0\n",
       "email              0\n",
       "course             0\n",
       "grade              0\n",
       "enrollment_date    0\n",
       "dtype: int64"
      ]
     },
     "execution_count": 23,
     "metadata": {},
     "output_type": "execute_result"
    }
   ],
   "source": [
    "# Check for Missing Data\n",
    "df.isnull().sum()"
   ]
  },
  {
   "cell_type": "code",
   "execution_count": 24,
   "id": "f04ea987-4fd4-4dcc-a7c4-3c0eca0db8a2",
   "metadata": {},
   "outputs": [
    {
     "data": {
      "text/plain": [
       "student_id         0\n",
       "name               0\n",
       "age                0\n",
       "email              0\n",
       "course             0\n",
       "grade              0\n",
       "enrollment_date    0\n",
       "dtype: int64"
      ]
     },
     "execution_count": 24,
     "metadata": {},
     "output_type": "execute_result"
    }
   ],
   "source": [
    "df.isna().sum()"
   ]
  },
  {
   "cell_type": "code",
   "execution_count": 27,
   "id": "4984cbfd-fd44-4415-b547-1e92882a748d",
   "metadata": {},
   "outputs": [
    {
     "data": {
      "text/plain": [
       "student_id                         103\n",
       "name                         Tom Brown\n",
       "age                                 19\n",
       "email                  tom@example.com\n",
       "course                Computer Science\n",
       "grade                                A\n",
       "enrollment_date    2021-01-01 00:00:00\n",
       "Name: 2, dtype: object"
      ]
     },
     "execution_count": 27,
     "metadata": {},
     "output_type": "execute_result"
    }
   ],
   "source": [
    "# Find the Youngest and Oldest Students.\n",
    "youngest=df.loc[df[\"age\"].idxmin()]\n",
    "oldest=df.loc[df[\"age\"].idxmax()]\n",
    "youngest\n"
   ]
  },
  {
   "cell_type": "code",
   "execution_count": 26,
   "id": "e27a93bb-0c37-438c-9e5d-4bd08f11b1c7",
   "metadata": {},
   "outputs": [
    {
     "data": {
      "text/plain": [
       "student_id                         105\n",
       "name                   Michael Johnson\n",
       "age                                 23\n",
       "email              michael@example.com\n",
       "course                       Economics\n",
       "grade                                B\n",
       "enrollment_date    2019-09-01 00:00:00\n",
       "Name: 4, dtype: object"
      ]
     },
     "execution_count": 26,
     "metadata": {},
     "output_type": "execute_result"
    }
   ],
   "source": [
    "oldest"
   ]
  },
  {
   "cell_type": "code",
   "execution_count": 28,
   "id": "7f3d80fe-dea8-4cf4-8e0c-dd75f7920f90",
   "metadata": {},
   "outputs": [
    {
     "data": {
      "text/html": [
       "<div>\n",
       "<style scoped>\n",
       "    .dataframe tbody tr th:only-of-type {\n",
       "        vertical-align: middle;\n",
       "    }\n",
       "\n",
       "    .dataframe tbody tr th {\n",
       "        vertical-align: top;\n",
       "    }\n",
       "\n",
       "    .dataframe thead th {\n",
       "        text-align: right;\n",
       "    }\n",
       "</style>\n",
       "<table border=\"1\" class=\"dataframe\">\n",
       "  <thead>\n",
       "    <tr style=\"text-align: right;\">\n",
       "      <th></th>\n",
       "      <th>student_id</th>\n",
       "      <th>name</th>\n",
       "      <th>age</th>\n",
       "      <th>email</th>\n",
       "      <th>course</th>\n",
       "      <th>grade</th>\n",
       "      <th>enrollment_date</th>\n",
       "    </tr>\n",
       "  </thead>\n",
       "  <tbody>\n",
       "    <tr>\n",
       "      <th>0</th>\n",
       "      <td>101</td>\n",
       "      <td>John Doe</td>\n",
       "      <td>20</td>\n",
       "      <td>john@example.com</td>\n",
       "      <td>Physics</td>\n",
       "      <td>A</td>\n",
       "      <td>2021-09-01</td>\n",
       "    </tr>\n",
       "    <tr>\n",
       "      <th>1</th>\n",
       "      <td>102</td>\n",
       "      <td>Jane Smith</td>\n",
       "      <td>21</td>\n",
       "      <td>jane@example.com</td>\n",
       "      <td>Mathematics</td>\n",
       "      <td>B</td>\n",
       "      <td>2020-09-01</td>\n",
       "    </tr>\n",
       "    <tr>\n",
       "      <th>2</th>\n",
       "      <td>103</td>\n",
       "      <td>Tom Brown</td>\n",
       "      <td>19</td>\n",
       "      <td>tom@example.com</td>\n",
       "      <td>Computer Science</td>\n",
       "      <td>A</td>\n",
       "      <td>2021-01-01</td>\n",
       "    </tr>\n",
       "    <tr>\n",
       "      <th>3</th>\n",
       "      <td>104</td>\n",
       "      <td>Emily Davis</td>\n",
       "      <td>22</td>\n",
       "      <td>emily@example.com</td>\n",
       "      <td>Engineering</td>\n",
       "      <td>C</td>\n",
       "      <td>2020-01-01</td>\n",
       "    </tr>\n",
       "    <tr>\n",
       "      <th>4</th>\n",
       "      <td>105</td>\n",
       "      <td>Michael Johnson</td>\n",
       "      <td>23</td>\n",
       "      <td>michael@example.com</td>\n",
       "      <td>Economics</td>\n",
       "      <td>B</td>\n",
       "      <td>2019-09-01</td>\n",
       "    </tr>\n",
       "  </tbody>\n",
       "</table>\n",
       "</div>"
      ],
      "text/plain": [
       "   student_id             name  age                email            course  \\\n",
       "0         101         John Doe   20     john@example.com           Physics   \n",
       "1         102       Jane Smith   21     jane@example.com       Mathematics   \n",
       "2         103        Tom Brown   19      tom@example.com  Computer Science   \n",
       "3         104      Emily Davis   22    emily@example.com       Engineering   \n",
       "4         105  Michael Johnson   23  michael@example.com         Economics   \n",
       "\n",
       "  grade enrollment_date  \n",
       "0     A      2021-09-01  \n",
       "1     B      2020-09-01  \n",
       "2     A      2021-01-01  \n",
       "3     C      2020-01-01  \n",
       "4     B      2019-09-01  "
      ]
     },
     "execution_count": 28,
     "metadata": {},
     "output_type": "execute_result"
    }
   ],
   "source": [
    "df"
   ]
  },
  {
   "cell_type": "code",
   "execution_count": 29,
   "id": "cc9e9691-4c79-43b2-8232-b7bed6a5c617",
   "metadata": {},
   "outputs": [
    {
     "data": {
      "text/html": [
       "<div>\n",
       "<style scoped>\n",
       "    .dataframe tbody tr th:only-of-type {\n",
       "        vertical-align: middle;\n",
       "    }\n",
       "\n",
       "    .dataframe tbody tr th {\n",
       "        vertical-align: top;\n",
       "    }\n",
       "\n",
       "    .dataframe thead th {\n",
       "        text-align: right;\n",
       "    }\n",
       "</style>\n",
       "<table border=\"1\" class=\"dataframe\">\n",
       "  <thead>\n",
       "    <tr style=\"text-align: right;\">\n",
       "      <th></th>\n",
       "      <th>student_id</th>\n",
       "      <th>name</th>\n",
       "      <th>age</th>\n",
       "      <th>email</th>\n",
       "      <th>course</th>\n",
       "      <th>grade</th>\n",
       "      <th>enrollment_date</th>\n",
       "      <th>remark</th>\n",
       "    </tr>\n",
       "  </thead>\n",
       "  <tbody>\n",
       "    <tr>\n",
       "      <th>0</th>\n",
       "      <td>101</td>\n",
       "      <td>John Doe</td>\n",
       "      <td>20</td>\n",
       "      <td>john@example.com</td>\n",
       "      <td>Physics</td>\n",
       "      <td>A</td>\n",
       "      <td>2021-09-01</td>\n",
       "      <td>True</td>\n",
       "    </tr>\n",
       "    <tr>\n",
       "      <th>1</th>\n",
       "      <td>102</td>\n",
       "      <td>Jane Smith</td>\n",
       "      <td>21</td>\n",
       "      <td>jane@example.com</td>\n",
       "      <td>Mathematics</td>\n",
       "      <td>B</td>\n",
       "      <td>2020-09-01</td>\n",
       "      <td>True</td>\n",
       "    </tr>\n",
       "    <tr>\n",
       "      <th>2</th>\n",
       "      <td>103</td>\n",
       "      <td>Tom Brown</td>\n",
       "      <td>19</td>\n",
       "      <td>tom@example.com</td>\n",
       "      <td>Computer Science</td>\n",
       "      <td>A</td>\n",
       "      <td>2021-01-01</td>\n",
       "      <td>True</td>\n",
       "    </tr>\n",
       "    <tr>\n",
       "      <th>3</th>\n",
       "      <td>104</td>\n",
       "      <td>Emily Davis</td>\n",
       "      <td>22</td>\n",
       "      <td>emily@example.com</td>\n",
       "      <td>Engineering</td>\n",
       "      <td>C</td>\n",
       "      <td>2020-01-01</td>\n",
       "      <td>False</td>\n",
       "    </tr>\n",
       "    <tr>\n",
       "      <th>4</th>\n",
       "      <td>105</td>\n",
       "      <td>Michael Johnson</td>\n",
       "      <td>23</td>\n",
       "      <td>michael@example.com</td>\n",
       "      <td>Economics</td>\n",
       "      <td>B</td>\n",
       "      <td>2019-09-01</td>\n",
       "      <td>True</td>\n",
       "    </tr>\n",
       "  </tbody>\n",
       "</table>\n",
       "</div>"
      ],
      "text/plain": [
       "   student_id             name  age                email            course  \\\n",
       "0         101         John Doe   20     john@example.com           Physics   \n",
       "1         102       Jane Smith   21     jane@example.com       Mathematics   \n",
       "2         103        Tom Brown   19      tom@example.com  Computer Science   \n",
       "3         104      Emily Davis   22    emily@example.com       Engineering   \n",
       "4         105  Michael Johnson   23  michael@example.com         Economics   \n",
       "\n",
       "  grade enrollment_date  remark  \n",
       "0     A      2021-09-01    True  \n",
       "1     B      2020-09-01    True  \n",
       "2     A      2021-01-01    True  \n",
       "3     C      2020-01-01   False  \n",
       "4     B      2019-09-01    True  "
      ]
     },
     "execution_count": 29,
     "metadata": {},
     "output_type": "execute_result"
    }
   ],
   "source": [
    "df[\"remark\"]=df[\"grade\"].apply(lambda x: True if x in [\"A\",\"B\"] else False)\n",
    "df"
   ]
  },
  {
   "cell_type": "code",
   "execution_count": 30,
   "id": "8f628990-736f-47d5-b5fa-6c94f2b9c0e4",
   "metadata": {},
   "outputs": [
    {
     "data": {
      "text/html": [
       "<div>\n",
       "<style scoped>\n",
       "    .dataframe tbody tr th:only-of-type {\n",
       "        vertical-align: middle;\n",
       "    }\n",
       "\n",
       "    .dataframe tbody tr th {\n",
       "        vertical-align: top;\n",
       "    }\n",
       "\n",
       "    .dataframe thead th {\n",
       "        text-align: right;\n",
       "    }\n",
       "</style>\n",
       "<table border=\"1\" class=\"dataframe\">\n",
       "  <thead>\n",
       "    <tr style=\"text-align: right;\">\n",
       "      <th></th>\n",
       "      <th>student_id</th>\n",
       "      <th>name</th>\n",
       "      <th>age</th>\n",
       "      <th>email</th>\n",
       "      <th>course</th>\n",
       "      <th>grade</th>\n",
       "      <th>enrollment_date</th>\n",
       "    </tr>\n",
       "  </thead>\n",
       "  <tbody>\n",
       "    <tr>\n",
       "      <th>0</th>\n",
       "      <td>101</td>\n",
       "      <td>John Doe</td>\n",
       "      <td>20</td>\n",
       "      <td>john@example.com</td>\n",
       "      <td>Physics</td>\n",
       "      <td>A</td>\n",
       "      <td>2021-09-01</td>\n",
       "    </tr>\n",
       "    <tr>\n",
       "      <th>1</th>\n",
       "      <td>102</td>\n",
       "      <td>Jane Smith</td>\n",
       "      <td>21</td>\n",
       "      <td>jane@example.com</td>\n",
       "      <td>Mathematics</td>\n",
       "      <td>B</td>\n",
       "      <td>2020-09-01</td>\n",
       "    </tr>\n",
       "    <tr>\n",
       "      <th>2</th>\n",
       "      <td>103</td>\n",
       "      <td>Tom Brown</td>\n",
       "      <td>19</td>\n",
       "      <td>tom@example.com</td>\n",
       "      <td>Computer Science</td>\n",
       "      <td>A</td>\n",
       "      <td>2021-01-01</td>\n",
       "    </tr>\n",
       "    <tr>\n",
       "      <th>3</th>\n",
       "      <td>104</td>\n",
       "      <td>Emily Davis</td>\n",
       "      <td>22</td>\n",
       "      <td>emily@example.com</td>\n",
       "      <td>Engineering</td>\n",
       "      <td>C</td>\n",
       "      <td>2020-01-01</td>\n",
       "    </tr>\n",
       "    <tr>\n",
       "      <th>4</th>\n",
       "      <td>105</td>\n",
       "      <td>Michael Johnson</td>\n",
       "      <td>23</td>\n",
       "      <td>michael@example.com</td>\n",
       "      <td>Economics</td>\n",
       "      <td>B</td>\n",
       "      <td>2019-09-01</td>\n",
       "    </tr>\n",
       "  </tbody>\n",
       "</table>\n",
       "</div>"
      ],
      "text/plain": [
       "   student_id             name  age                email            course  \\\n",
       "0         101         John Doe   20     john@example.com           Physics   \n",
       "1         102       Jane Smith   21     jane@example.com       Mathematics   \n",
       "2         103        Tom Brown   19      tom@example.com  Computer Science   \n",
       "3         104      Emily Davis   22    emily@example.com       Engineering   \n",
       "4         105  Michael Johnson   23  michael@example.com         Economics   \n",
       "\n",
       "  grade enrollment_date  \n",
       "0     A      2021-09-01  \n",
       "1     B      2020-09-01  \n",
       "2     A      2021-01-01  \n",
       "3     C      2020-01-01  \n",
       "4     B      2019-09-01  "
      ]
     },
     "execution_count": 30,
     "metadata": {},
     "output_type": "execute_result"
    }
   ],
   "source": [
    "df=df.drop(columns=[\"remark\"],axis=1)\n",
    "df"
   ]
  },
  {
   "cell_type": "code",
   "execution_count": 32,
   "id": "22f8bd4e-dd21-4c4a-a64c-00c7c56dc9c3",
   "metadata": {},
   "outputs": [
    {
     "name": "stdout",
     "output_type": "stream",
     "text": [
      "\n",
      "Pivot table of grades by course and passed status:\n",
      "                  grade\n",
      "course                 \n",
      "Computer Science      1\n",
      "Economics             1\n",
      "Engineering           1\n",
      "Mathematics           1\n",
      "Physics               1\n"
     ]
    }
   ],
   "source": [
    "pivot_table = pd.pivot_table(df, values='grade', index='course', aggfunc='count')\n",
    "print(\"\\nPivot table of grades by course and passed status:\")\n",
    "print(pivot_table)\n"
   ]
  },
  {
   "cell_type": "code",
   "execution_count": 42,
   "id": "99ede779-62ab-40d9-b7f3-086166859ce3",
   "metadata": {},
   "outputs": [
    {
     "data": {
      "text/html": [
       "<div>\n",
       "<style scoped>\n",
       "    .dataframe tbody tr th:only-of-type {\n",
       "        vertical-align: middle;\n",
       "    }\n",
       "\n",
       "    .dataframe tbody tr th {\n",
       "        vertical-align: top;\n",
       "    }\n",
       "\n",
       "    .dataframe thead th {\n",
       "        text-align: right;\n",
       "    }\n",
       "</style>\n",
       "<table border=\"1\" class=\"dataframe\">\n",
       "  <thead>\n",
       "    <tr style=\"text-align: right;\">\n",
       "      <th></th>\n",
       "      <th>student_id</th>\n",
       "      <th>stud_name</th>\n",
       "      <th>age</th>\n",
       "      <th>email</th>\n",
       "      <th>course</th>\n",
       "      <th>grade</th>\n",
       "      <th>enrollment_date</th>\n",
       "    </tr>\n",
       "  </thead>\n",
       "  <tbody>\n",
       "    <tr>\n",
       "      <th>0</th>\n",
       "      <td>101</td>\n",
       "      <td>John Doe</td>\n",
       "      <td>20</td>\n",
       "      <td>john@example.com</td>\n",
       "      <td>Physics</td>\n",
       "      <td>A</td>\n",
       "      <td>2021-09-01</td>\n",
       "    </tr>\n",
       "    <tr>\n",
       "      <th>1</th>\n",
       "      <td>102</td>\n",
       "      <td>Jane Smith</td>\n",
       "      <td>21</td>\n",
       "      <td>jane@example.com</td>\n",
       "      <td>Mathematics</td>\n",
       "      <td>B</td>\n",
       "      <td>2020-09-01</td>\n",
       "    </tr>\n",
       "    <tr>\n",
       "      <th>2</th>\n",
       "      <td>103</td>\n",
       "      <td>Tom Brown</td>\n",
       "      <td>19</td>\n",
       "      <td>tom@example.com</td>\n",
       "      <td>Computer Science</td>\n",
       "      <td>A</td>\n",
       "      <td>2021-01-01</td>\n",
       "    </tr>\n",
       "    <tr>\n",
       "      <th>3</th>\n",
       "      <td>104</td>\n",
       "      <td>Emily Davis</td>\n",
       "      <td>22</td>\n",
       "      <td>emily@example.com</td>\n",
       "      <td>Engineering</td>\n",
       "      <td>C</td>\n",
       "      <td>2020-01-01</td>\n",
       "    </tr>\n",
       "    <tr>\n",
       "      <th>4</th>\n",
       "      <td>105</td>\n",
       "      <td>Michael Johnson</td>\n",
       "      <td>23</td>\n",
       "      <td>michael@example.com</td>\n",
       "      <td>Economics</td>\n",
       "      <td>B</td>\n",
       "      <td>2019-09-01</td>\n",
       "    </tr>\n",
       "  </tbody>\n",
       "</table>\n",
       "</div>"
      ],
      "text/plain": [
       "   student_id        stud_name  age                email            course  \\\n",
       "0         101         John Doe   20     john@example.com           Physics   \n",
       "1         102       Jane Smith   21     jane@example.com       Mathematics   \n",
       "2         103        Tom Brown   19      tom@example.com  Computer Science   \n",
       "3         104      Emily Davis   22    emily@example.com       Engineering   \n",
       "4         105  Michael Johnson   23  michael@example.com         Economics   \n",
       "\n",
       "  grade enrollment_date  \n",
       "0     A      2021-09-01  \n",
       "1     B      2020-09-01  \n",
       "2     A      2021-01-01  \n",
       "3     C      2020-01-01  \n",
       "4     B      2019-09-01  "
      ]
     },
     "execution_count": 42,
     "metadata": {},
     "output_type": "execute_result"
    }
   ],
   "source": [
    "# Change Column Name\n",
    "df.rename(columns={\"name\":\"stud_name\"},inplace=True)\n",
    "df"
   ]
  },
  {
   "cell_type": "code",
   "execution_count": 43,
   "id": "9c77ca0d-0ca6-46d8-9d09-d95058f0737b",
   "metadata": {},
   "outputs": [
    {
     "data": {
      "text/html": [
       "<div>\n",
       "<style scoped>\n",
       "    .dataframe tbody tr th:only-of-type {\n",
       "        vertical-align: middle;\n",
       "    }\n",
       "\n",
       "    .dataframe tbody tr th {\n",
       "        vertical-align: top;\n",
       "    }\n",
       "\n",
       "    .dataframe thead th {\n",
       "        text-align: right;\n",
       "    }\n",
       "</style>\n",
       "<table border=\"1\" class=\"dataframe\">\n",
       "  <thead>\n",
       "    <tr style=\"text-align: right;\">\n",
       "      <th></th>\n",
       "      <th>stud_name</th>\n",
       "      <th>age</th>\n",
       "      <th>email</th>\n",
       "      <th>course</th>\n",
       "      <th>grade</th>\n",
       "      <th>enrollment_date</th>\n",
       "    </tr>\n",
       "    <tr>\n",
       "      <th>student_id</th>\n",
       "      <th></th>\n",
       "      <th></th>\n",
       "      <th></th>\n",
       "      <th></th>\n",
       "      <th></th>\n",
       "      <th></th>\n",
       "    </tr>\n",
       "  </thead>\n",
       "  <tbody>\n",
       "    <tr>\n",
       "      <th>101</th>\n",
       "      <td>John Doe</td>\n",
       "      <td>20</td>\n",
       "      <td>john@example.com</td>\n",
       "      <td>Physics</td>\n",
       "      <td>A</td>\n",
       "      <td>2021-09-01</td>\n",
       "    </tr>\n",
       "    <tr>\n",
       "      <th>102</th>\n",
       "      <td>Jane Smith</td>\n",
       "      <td>21</td>\n",
       "      <td>jane@example.com</td>\n",
       "      <td>Mathematics</td>\n",
       "      <td>B</td>\n",
       "      <td>2020-09-01</td>\n",
       "    </tr>\n",
       "    <tr>\n",
       "      <th>103</th>\n",
       "      <td>Tom Brown</td>\n",
       "      <td>19</td>\n",
       "      <td>tom@example.com</td>\n",
       "      <td>Computer Science</td>\n",
       "      <td>A</td>\n",
       "      <td>2021-01-01</td>\n",
       "    </tr>\n",
       "    <tr>\n",
       "      <th>104</th>\n",
       "      <td>Emily Davis</td>\n",
       "      <td>22</td>\n",
       "      <td>emily@example.com</td>\n",
       "      <td>Engineering</td>\n",
       "      <td>C</td>\n",
       "      <td>2020-01-01</td>\n",
       "    </tr>\n",
       "    <tr>\n",
       "      <th>105</th>\n",
       "      <td>Michael Johnson</td>\n",
       "      <td>23</td>\n",
       "      <td>michael@example.com</td>\n",
       "      <td>Economics</td>\n",
       "      <td>B</td>\n",
       "      <td>2019-09-01</td>\n",
       "    </tr>\n",
       "  </tbody>\n",
       "</table>\n",
       "</div>"
      ],
      "text/plain": [
       "                  stud_name  age                email            course grade  \\\n",
       "student_id                                                                      \n",
       "101                John Doe   20     john@example.com           Physics     A   \n",
       "102              Jane Smith   21     jane@example.com       Mathematics     B   \n",
       "103               Tom Brown   19      tom@example.com  Computer Science     A   \n",
       "104             Emily Davis   22    emily@example.com       Engineering     C   \n",
       "105         Michael Johnson   23  michael@example.com         Economics     B   \n",
       "\n",
       "           enrollment_date  \n",
       "student_id                  \n",
       "101             2021-09-01  \n",
       "102             2020-09-01  \n",
       "103             2021-01-01  \n",
       "104             2020-01-01  \n",
       "105             2019-09-01  "
      ]
     },
     "execution_count": 43,
     "metadata": {},
     "output_type": "execute_result"
    }
   ],
   "source": [
    "df.set_index(\"student_id\", inplace=True)\n",
    "df"
   ]
  },
  {
   "cell_type": "code",
   "execution_count": 45,
   "id": "f361baff-e8a4-498f-b514-7a8ba8b24481",
   "metadata": {},
   "outputs": [
    {
     "data": {
      "text/html": [
       "<div>\n",
       "<style scoped>\n",
       "    .dataframe tbody tr th:only-of-type {\n",
       "        vertical-align: middle;\n",
       "    }\n",
       "\n",
       "    .dataframe tbody tr th {\n",
       "        vertical-align: top;\n",
       "    }\n",
       "\n",
       "    .dataframe thead th {\n",
       "        text-align: right;\n",
       "    }\n",
       "</style>\n",
       "<table border=\"1\" class=\"dataframe\">\n",
       "  <thead>\n",
       "    <tr style=\"text-align: right;\">\n",
       "      <th></th>\n",
       "      <th>stud_name</th>\n",
       "      <th>age</th>\n",
       "      <th>email</th>\n",
       "      <th>course</th>\n",
       "      <th>grade</th>\n",
       "      <th>enrollment_date</th>\n",
       "    </tr>\n",
       "    <tr>\n",
       "      <th>student_id</th>\n",
       "      <th></th>\n",
       "      <th></th>\n",
       "      <th></th>\n",
       "      <th></th>\n",
       "      <th></th>\n",
       "      <th></th>\n",
       "    </tr>\n",
       "  </thead>\n",
       "  <tbody>\n",
       "    <tr>\n",
       "      <th>101</th>\n",
       "      <td>John Doe</td>\n",
       "      <td>20</td>\n",
       "      <td>john@example.com</td>\n",
       "      <td>Data Science</td>\n",
       "      <td>A</td>\n",
       "      <td>2021-09-01</td>\n",
       "    </tr>\n",
       "    <tr>\n",
       "      <th>102</th>\n",
       "      <td>Jane Smith</td>\n",
       "      <td>21</td>\n",
       "      <td>jane@example.com</td>\n",
       "      <td>Mathematics</td>\n",
       "      <td>B</td>\n",
       "      <td>2020-09-01</td>\n",
       "    </tr>\n",
       "    <tr>\n",
       "      <th>103</th>\n",
       "      <td>Tom Brown</td>\n",
       "      <td>19</td>\n",
       "      <td>tom@example.com</td>\n",
       "      <td>Computer Science</td>\n",
       "      <td>A</td>\n",
       "      <td>2021-01-01</td>\n",
       "    </tr>\n",
       "    <tr>\n",
       "      <th>104</th>\n",
       "      <td>Emily Davis</td>\n",
       "      <td>22</td>\n",
       "      <td>emily@example.com</td>\n",
       "      <td>Engineering</td>\n",
       "      <td>C</td>\n",
       "      <td>2020-01-01</td>\n",
       "    </tr>\n",
       "    <tr>\n",
       "      <th>105</th>\n",
       "      <td>Michael Johnson</td>\n",
       "      <td>23</td>\n",
       "      <td>michael@example.com</td>\n",
       "      <td>Economics</td>\n",
       "      <td>B</td>\n",
       "      <td>2019-09-01</td>\n",
       "    </tr>\n",
       "  </tbody>\n",
       "</table>\n",
       "</div>"
      ],
      "text/plain": [
       "                  stud_name  age                email            course grade  \\\n",
       "student_id                                                                      \n",
       "101                John Doe   20     john@example.com      Data Science     A   \n",
       "102              Jane Smith   21     jane@example.com       Mathematics     B   \n",
       "103               Tom Brown   19      tom@example.com  Computer Science     A   \n",
       "104             Emily Davis   22    emily@example.com       Engineering     C   \n",
       "105         Michael Johnson   23  michael@example.com         Economics     B   \n",
       "\n",
       "           enrollment_date  \n",
       "student_id                  \n",
       "101             2021-09-01  \n",
       "102             2020-09-01  \n",
       "103             2021-01-01  \n",
       "104             2020-01-01  \n",
       "105             2019-09-01  "
      ]
     },
     "execution_count": 45,
     "metadata": {},
     "output_type": "execute_result"
    }
   ],
   "source": [
    "df.loc[df[\"stud_name\"]==\"John Doe\", \"course\"]=\"Data Science\"\n",
    "df"
   ]
  },
  {
   "cell_type": "code",
   "execution_count": 46,
   "id": "d41ebd57-7d5d-4dc5-b81f-8bc28c29a588",
   "metadata": {},
   "outputs": [
    {
     "data": {
      "text/html": [
       "<div>\n",
       "<style scoped>\n",
       "    .dataframe tbody tr th:only-of-type {\n",
       "        vertical-align: middle;\n",
       "    }\n",
       "\n",
       "    .dataframe tbody tr th {\n",
       "        vertical-align: top;\n",
       "    }\n",
       "\n",
       "    .dataframe thead th {\n",
       "        text-align: right;\n",
       "    }\n",
       "</style>\n",
       "<table border=\"1\" class=\"dataframe\">\n",
       "  <thead>\n",
       "    <tr style=\"text-align: right;\">\n",
       "      <th></th>\n",
       "      <th>stud_name</th>\n",
       "      <th>age</th>\n",
       "      <th>email</th>\n",
       "      <th>course</th>\n",
       "      <th>grade</th>\n",
       "      <th>enrollment_date</th>\n",
       "    </tr>\n",
       "    <tr>\n",
       "      <th>student_id</th>\n",
       "      <th></th>\n",
       "      <th></th>\n",
       "      <th></th>\n",
       "      <th></th>\n",
       "      <th></th>\n",
       "      <th></th>\n",
       "    </tr>\n",
       "  </thead>\n",
       "  <tbody>\n",
       "    <tr>\n",
       "      <th>101</th>\n",
       "      <td>John Doe</td>\n",
       "      <td>20</td>\n",
       "      <td>john@example.com</td>\n",
       "      <td>Data Science</td>\n",
       "      <td>A</td>\n",
       "      <td>2021-09-01</td>\n",
       "    </tr>\n",
       "    <tr>\n",
       "      <th>102</th>\n",
       "      <td>Jane Smith</td>\n",
       "      <td>21</td>\n",
       "      <td>jane@example.com</td>\n",
       "      <td>Mathematics</td>\n",
       "      <td>B</td>\n",
       "      <td>2020-09-01</td>\n",
       "    </tr>\n",
       "    <tr>\n",
       "      <th>103</th>\n",
       "      <td>Tom Brown</td>\n",
       "      <td>19</td>\n",
       "      <td>tom@example.com</td>\n",
       "      <td>Computer Science</td>\n",
       "      <td>A</td>\n",
       "      <td>2021-01-01</td>\n",
       "    </tr>\n",
       "    <tr>\n",
       "      <th>104</th>\n",
       "      <td>Emily Davis</td>\n",
       "      <td>22</td>\n",
       "      <td>emily@example.com</td>\n",
       "      <td>Engineering</td>\n",
       "      <td>C</td>\n",
       "      <td>2020-01-01</td>\n",
       "    </tr>\n",
       "    <tr>\n",
       "      <th>105</th>\n",
       "      <td>Michael Johnson</td>\n",
       "      <td>23</td>\n",
       "      <td>michael@example.com</td>\n",
       "      <td>M.B.B.S</td>\n",
       "      <td>B</td>\n",
       "      <td>2019-09-01</td>\n",
       "    </tr>\n",
       "  </tbody>\n",
       "</table>\n",
       "</div>"
      ],
      "text/plain": [
       "                  stud_name  age                email            course grade  \\\n",
       "student_id                                                                      \n",
       "101                John Doe   20     john@example.com      Data Science     A   \n",
       "102              Jane Smith   21     jane@example.com       Mathematics     B   \n",
       "103               Tom Brown   19      tom@example.com  Computer Science     A   \n",
       "104             Emily Davis   22    emily@example.com       Engineering     C   \n",
       "105         Michael Johnson   23  michael@example.com           M.B.B.S     B   \n",
       "\n",
       "           enrollment_date  \n",
       "student_id                  \n",
       "101             2021-09-01  \n",
       "102             2020-09-01  \n",
       "103             2021-01-01  \n",
       "104             2020-01-01  \n",
       "105             2019-09-01  "
      ]
     },
     "execution_count": 46,
     "metadata": {},
     "output_type": "execute_result"
    }
   ],
   "source": [
    "df.loc[105, \"course\"]=\"M.B.B.S\"\n",
    "df"
   ]
  },
  {
   "cell_type": "code",
   "execution_count": 47,
   "id": "1ad0b667-fc8e-446d-8260-dd2a43d89f1d",
   "metadata": {},
   "outputs": [
    {
     "data": {
      "text/html": [
       "<div>\n",
       "<style scoped>\n",
       "    .dataframe tbody tr th:only-of-type {\n",
       "        vertical-align: middle;\n",
       "    }\n",
       "\n",
       "    .dataframe tbody tr th {\n",
       "        vertical-align: top;\n",
       "    }\n",
       "\n",
       "    .dataframe thead th {\n",
       "        text-align: right;\n",
       "    }\n",
       "</style>\n",
       "<table border=\"1\" class=\"dataframe\">\n",
       "  <thead>\n",
       "    <tr style=\"text-align: right;\">\n",
       "      <th></th>\n",
       "      <th>stud_name</th>\n",
       "      <th>age</th>\n",
       "      <th>email</th>\n",
       "      <th>course</th>\n",
       "      <th>grade</th>\n",
       "      <th>enrollment_date</th>\n",
       "    </tr>\n",
       "    <tr>\n",
       "      <th>student_id</th>\n",
       "      <th></th>\n",
       "      <th></th>\n",
       "      <th></th>\n",
       "      <th></th>\n",
       "      <th></th>\n",
       "      <th></th>\n",
       "    </tr>\n",
       "  </thead>\n",
       "  <tbody>\n",
       "    <tr>\n",
       "      <th>102</th>\n",
       "      <td>Jane Smith</td>\n",
       "      <td>21</td>\n",
       "      <td>jane@example.com</td>\n",
       "      <td>Mathematics</td>\n",
       "      <td>B</td>\n",
       "      <td>2020-09-01</td>\n",
       "    </tr>\n",
       "    <tr>\n",
       "      <th>104</th>\n",
       "      <td>Emily Davis</td>\n",
       "      <td>22</td>\n",
       "      <td>emily@example.com</td>\n",
       "      <td>Engineering</td>\n",
       "      <td>C</td>\n",
       "      <td>2020-01-01</td>\n",
       "    </tr>\n",
       "  </tbody>\n",
       "</table>\n",
       "</div>"
      ],
      "text/plain": [
       "              stud_name  age              email       course grade  \\\n",
       "student_id                                                           \n",
       "102          Jane Smith   21   jane@example.com  Mathematics     B   \n",
       "104         Emily Davis   22  emily@example.com  Engineering     C   \n",
       "\n",
       "           enrollment_date  \n",
       "student_id                  \n",
       "102             2020-09-01  \n",
       "104             2020-01-01  "
      ]
     },
     "execution_count": 47,
     "metadata": {},
     "output_type": "execute_result"
    }
   ],
   "source": [
    "even=df[df.index%2==0]\n",
    "even"
   ]
  },
  {
   "cell_type": "code",
   "execution_count": 49,
   "id": "7393db81-8d60-4640-bd25-a97bb6d09713",
   "metadata": {},
   "outputs": [
    {
     "data": {
      "text/plain": [
       "5"
      ]
     },
     "execution_count": 49,
     "metadata": {},
     "output_type": "execute_result"
    }
   ],
   "source": [
    "df.shape[0]"
   ]
  },
  {
   "cell_type": "code",
   "execution_count": 51,
   "id": "82ae4d5b-53f3-4476-b786-eea75f4e6f77",
   "metadata": {},
   "outputs": [
    {
     "name": "stdout",
     "output_type": "stream",
     "text": [
      "0\n",
      "1\n",
      "2\n",
      "3\n",
      "4\n"
     ]
    }
   ],
   "source": [
    "def xrange(start, stop=None, step=1):\n",
    "    # Handle if only one argument is provided\n",
    "    if stop is None:\n",
    "        stop = start\n",
    "        start = 0\n",
    "    \n",
    "    current = start\n",
    "    while current < stop:\n",
    "        yield current\n",
    "        current += step\n",
    "for i in xrange(5):\n",
    "    print(i)"
   ]
  },
  {
   "cell_type": "code",
   "execution_count": 53,
   "id": "702a2140-2745-4cb3-b600-48f9b70cc515",
   "metadata": {},
   "outputs": [
    {
     "name": "stdout",
     "output_type": "stream",
     "text": [
      "my name is jsdhbcg and im 78 years old\n"
     ]
    }
   ],
   "source": [
    "# object orinted programming\n",
    "class praj:\n",
    "    def __init__(self, name, age):\n",
    "        self.name=name\n",
    "        self.age=age\n",
    "    def show(self):\n",
    "        print(f\"my name is {self.name} and im {self.age} years old\")\n",
    "\n",
    "a=praj(\"jsdhbcg\",78)\n",
    "a.show()"
   ]
  },
  {
   "cell_type": "code",
   "execution_count": 64,
   "id": "651eede1-3eec-41d0-abba-1da342d98eb5",
   "metadata": {},
   "outputs": [
    {
     "name": "stdout",
     "output_type": "stream",
     "text": [
      " is it even : True\n",
      "is it positive : True\n",
      "(' is it even : True', 'is it positive : True')\n"
     ]
    }
   ],
   "source": [
    "# . Create a method in it to check if the give input satisfies a particular condition or not\n",
    "# Create a object of the class and perfoem certain action with it\n",
    "class xyz:\n",
    "    def __init__(self,number):\n",
    "        self.number=number\n",
    "    def is_even(self):\n",
    "        return f\" is it even : {self.number % 2==0}\"\n",
    "    def is_positive(self):\n",
    "        return f\"is it positive : {self.number>0}\"\n",
    "    def satisfies_condition(self):\n",
    "        a=self.is_even()\n",
    "        b=self.is_positive()\n",
    "        return a , b\n",
    "a=xyz(18)\n",
    "print(a.is_even())             \n",
    "print(a.is_positive())          \n",
    "print(a.satisfies_condition())"
   ]
  },
  {
   "cell_type": "code",
   "execution_count": 70,
   "id": "387dcb57-70a3-45ec-b217-5181c5074484",
   "metadata": {},
   "outputs": [
    {
     "data": {
      "text/plain": [
       "4"
      ]
     },
     "execution_count": 70,
     "metadata": {},
     "output_type": "execute_result"
    }
   ],
   "source": [
    "# 17. Given a list , find the missing value in this, after that asked to do more changes in it\n",
    "l1=[1,2,3,5]\n",
    "def missing_value(l1):\n",
    "    n=len(l1)+1\n",
    "    expexted_sum=n*(n+1)//2\n",
    "    actual_sum=sum(l1)\n",
    "    missing=expexted_sum-actual_sum\n",
    "    return missing\n",
    "a=missing_value(l1)\n",
    "a"
   ]
  },
  {
   "cell_type": "code",
   "execution_count": 85,
   "id": "90605f23-b6c0-4a3e-88d1-865fadb9fde1",
   "metadata": {},
   "outputs": [
    {
     "name": "stdout",
     "output_type": "stream",
     "text": [
      "Missing  value is:  4\n"
     ]
    }
   ],
   "source": [
    "# insert that missing value in the list\n",
    "\n",
    "l1=[1,2,3,5]\n",
    "def missing_value(l1):\n",
    "    n=len(l1)+1\n",
    "    expexted_sum=n*(n+1)//2\n",
    "    actual_sum=sum(l1)\n",
    "    missing=expexted_sum - actual_sum\n",
    "    return missing\n",
    "a=missing_value(l1)\n",
    "print(\"Missing  value is: \"  ,a)"
   ]
  },
  {
   "cell_type": "code",
   "execution_count": 86,
   "id": "344b263a-b6fd-4156-9f5d-a1726d144470",
   "metadata": {},
   "outputs": [
    {
     "data": {
      "text/plain": [
       "[1, 2, 3, 4, 5]"
      ]
     },
     "execution_count": 86,
     "metadata": {},
     "output_type": "execute_result"
    }
   ],
   "source": [
    "def insert_missing_value(l1,a):\n",
    "    l1.append(a)\n",
    "    return sorted(l1)\n",
    "updated=insert_missing_value(l1,a)\n",
    "updated"
   ]
  },
  {
   "cell_type": "code",
   "execution_count": 87,
   "id": "6ef556ef-bdcb-4b71-841e-1669c7a4c47c",
   "metadata": {},
   "outputs": [
    {
     "data": {
      "text/plain": [
       "[5, 4, 3, 2, 1]"
      ]
     },
     "execution_count": 87,
     "metadata": {},
     "output_type": "execute_result"
    }
   ],
   "source": [
    "# Descending order\n",
    "desc=sorted(list(set(updated)), reverse=True)\n",
    "desc"
   ]
  }
 ],
 "metadata": {
  "kernelspec": {
   "display_name": "Python 3 (ipykernel)",
   "language": "python",
   "name": "python3"
  },
  "language_info": {
   "codemirror_mode": {
    "name": "ipython",
    "version": 3
   },
   "file_extension": ".py",
   "mimetype": "text/x-python",
   "name": "python",
   "nbconvert_exporter": "python",
   "pygments_lexer": "ipython3",
   "version": "3.12.2"
  }
 },
 "nbformat": 4,
 "nbformat_minor": 5
}
